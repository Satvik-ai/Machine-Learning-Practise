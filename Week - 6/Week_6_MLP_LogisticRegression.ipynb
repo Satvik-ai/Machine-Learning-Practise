{
  "nbformat": 4,
  "nbformat_minor": 0,
  "metadata": {
    "colab": {
      "provenance": [],
      "toc_visible": true
    },
    "kernelspec": {
      "name": "python3",
      "display_name": "Python 3"
    },
    "language_info": {
      "name": "python"
    }
  },
  "cells": [
    {
      "cell_type": "markdown",
      "metadata": {
        "id": "znvoLYgyLn2j"
      },
      "source": [
        "### **ML practice-Week 6:**\n",
        "Logistic Regression for binary classification"
      ]
    },
    {
      "cell_type": "markdown",
      "metadata": {
        "id": "0oLkShUGcO-u"
      },
      "source": [
        "**Introduction**\n",
        "\n",
        "Logistic Regression (also called Logit Regression) is commonly used to estimate the probability that an instance belongs to a particular class. \n",
        "- If the estimated probability is\n",
        "greater than 50%, then the model predicts that the instance belongs to that class\n",
        "(called the positive class, labeled “1”), or else it predicts that it does not (i.e., it\n",
        "belongs to the negative class, labeled “0”). \n",
        "- This makes it a binary classifier."
      ]
    },
    {
      "cell_type": "markdown",
      "metadata": {
        "id": "yzGHKp-kfiol"
      },
      "source": [
        "# **Loading the dataset**\n"
      ]
    },
    {
      "cell_type": "markdown",
      "metadata": {
        "id": "Z0d9zcpOfnfB"
      },
      "source": [
        "**Cleveland Heart-disease dataset**\n",
        "\n",
        "Attribute Information:\n",
        "\n",
        "1. Age (in years)\n",
        "2. Sex (1 = male; 0 = female)\n",
        "3. cp -chest pain type\n",
        "4. trestbps - resting blood pressure (anything above 130-140 is typically cause for concern)\n",
        "5. chol-serum cholestoral in mg/dl (above 200 is cause for concern)\n",
        "6. fbs - fasting blood sugar ( > 120 mg/dl) (1 = true; 0 = false)\n",
        "7. restecg - resting electrocardiographic results (0 = normal;1 = having ST-T wave abnormality; 2 = showing probable or definite left ventricular hypertrophy by Estes' criteria)\n",
        "8. thalach-maximum heart rate achieved\n",
        "9. exang - exercise induced angina (1 = yes; 0 = no)\n",
        "10. oldpeak - depression induced by exercise relative to rest\n",
        "11. slope -  slope of the peak exercise ST segment (1 = upsloping; 2 = flat Value; 3 = downsloping)\n",
        "12. ca - number of major vessels (0-3) colored by flourosopy\n",
        "13. thal - (3 = normal; 6 = fixed defect; 7 = reversable defect\n",
        "14. **num** (target) -  diagnosis of heart disease (angiographic disease status)( 0: < 50% diameter narrowing ; 1: > 50% diameter narrowing)\n",
        "\n",
        "[Reference](https://archive.ics.uci.edu/ml/datasets/Heart+Disease)"
      ]
    },
    {
      "cell_type": "markdown",
      "metadata": {
        "id": "tlM_Zzk8PnZ6"
      },
      "source": [
        "**Import basic libraries**"
      ]
    },
    {
      "cell_type": "code",
      "metadata": {
        "id": "hYMtC-VkLys3"
      },
      "source": [
        "import pandas as pd\n",
        "import matplotlib.pyplot as plt\n",
        "import seaborn as sns\n",
        "import numpy as np\n",
        "from sklearn import datasets\n",
        "from sklearn.linear_model import LogisticRegression\n",
        "from pandas.plotting import scatter_matrix\n",
        "from sklearn.impute import SimpleImputer\n",
        "from sklearn.preprocessing import StandardScaler"
      ],
      "execution_count": null,
      "outputs": []
    },
    {
      "cell_type": "markdown",
      "metadata": {
        "id": "uVFpqfMgPsdZ"
      },
      "source": [
        "**Download Heart disease dataset**"
      ]
    },
    {
      "cell_type": "code",
      "metadata": {
        "id": "-TYdI7L5LKlB",
        "colab": {
          "base_uri": "https://localhost:8080/",
          "height": 488
        },
        "outputId": "c20e46d6-0683-4aab-a002-059cb50460ed"
      },
      "source": [
        "#Define the column names\n",
        "cols = ['age', 'sex', 'cp', 'trestbps', 'chol',  'fbs', 'restecg', 'thalach', 'exang', 'oldpeak', 'slope','ca', 'thal', 'num']\n",
        "\n",
        "# Load the dataset\n",
        "heart_data = pd.read_csv('https://archive.ics.uci.edu/ml/machine-learning-databases/heart-disease/processed.cleveland.data',header=None, names=cols)\n",
        "heart_data"
      ],
      "execution_count": null,
      "outputs": [
        {
          "output_type": "execute_result",
          "data": {
            "text/plain": [
              "      age  sex   cp  trestbps   chol  fbs  restecg  thalach  exang  oldpeak  \\\n",
              "0    63.0  1.0  1.0     145.0  233.0  1.0      2.0    150.0    0.0      2.3   \n",
              "1    67.0  1.0  4.0     160.0  286.0  0.0      2.0    108.0    1.0      1.5   \n",
              "2    67.0  1.0  4.0     120.0  229.0  0.0      2.0    129.0    1.0      2.6   \n",
              "3    37.0  1.0  3.0     130.0  250.0  0.0      0.0    187.0    0.0      3.5   \n",
              "4    41.0  0.0  2.0     130.0  204.0  0.0      2.0    172.0    0.0      1.4   \n",
              "..    ...  ...  ...       ...    ...  ...      ...      ...    ...      ...   \n",
              "298  45.0  1.0  1.0     110.0  264.0  0.0      0.0    132.0    0.0      1.2   \n",
              "299  68.0  1.0  4.0     144.0  193.0  1.0      0.0    141.0    0.0      3.4   \n",
              "300  57.0  1.0  4.0     130.0  131.0  0.0      0.0    115.0    1.0      1.2   \n",
              "301  57.0  0.0  2.0     130.0  236.0  0.0      2.0    174.0    0.0      0.0   \n",
              "302  38.0  1.0  3.0     138.0  175.0  0.0      0.0    173.0    0.0      0.0   \n",
              "\n",
              "     slope   ca thal  num  \n",
              "0      3.0  0.0  6.0    0  \n",
              "1      2.0  3.0  3.0    2  \n",
              "2      2.0  2.0  7.0    1  \n",
              "3      3.0  0.0  3.0    0  \n",
              "4      1.0  0.0  3.0    0  \n",
              "..     ...  ...  ...  ...  \n",
              "298    2.0  0.0  7.0    1  \n",
              "299    2.0  2.0  7.0    2  \n",
              "300    2.0  1.0  7.0    3  \n",
              "301    2.0  1.0  3.0    1  \n",
              "302    1.0    ?  3.0    0  \n",
              "\n",
              "[303 rows x 14 columns]"
            ],
            "text/html": [
              "\n",
              "  <div id=\"df-5d92fba8-f760-4af7-92a6-cbce420cc193\">\n",
              "    <div class=\"colab-df-container\">\n",
              "      <div>\n",
              "<style scoped>\n",
              "    .dataframe tbody tr th:only-of-type {\n",
              "        vertical-align: middle;\n",
              "    }\n",
              "\n",
              "    .dataframe tbody tr th {\n",
              "        vertical-align: top;\n",
              "    }\n",
              "\n",
              "    .dataframe thead th {\n",
              "        text-align: right;\n",
              "    }\n",
              "</style>\n",
              "<table border=\"1\" class=\"dataframe\">\n",
              "  <thead>\n",
              "    <tr style=\"text-align: right;\">\n",
              "      <th></th>\n",
              "      <th>age</th>\n",
              "      <th>sex</th>\n",
              "      <th>cp</th>\n",
              "      <th>trestbps</th>\n",
              "      <th>chol</th>\n",
              "      <th>fbs</th>\n",
              "      <th>restecg</th>\n",
              "      <th>thalach</th>\n",
              "      <th>exang</th>\n",
              "      <th>oldpeak</th>\n",
              "      <th>slope</th>\n",
              "      <th>ca</th>\n",
              "      <th>thal</th>\n",
              "      <th>num</th>\n",
              "    </tr>\n",
              "  </thead>\n",
              "  <tbody>\n",
              "    <tr>\n",
              "      <th>0</th>\n",
              "      <td>63.0</td>\n",
              "      <td>1.0</td>\n",
              "      <td>1.0</td>\n",
              "      <td>145.0</td>\n",
              "      <td>233.0</td>\n",
              "      <td>1.0</td>\n",
              "      <td>2.0</td>\n",
              "      <td>150.0</td>\n",
              "      <td>0.0</td>\n",
              "      <td>2.3</td>\n",
              "      <td>3.0</td>\n",
              "      <td>0.0</td>\n",
              "      <td>6.0</td>\n",
              "      <td>0</td>\n",
              "    </tr>\n",
              "    <tr>\n",
              "      <th>1</th>\n",
              "      <td>67.0</td>\n",
              "      <td>1.0</td>\n",
              "      <td>4.0</td>\n",
              "      <td>160.0</td>\n",
              "      <td>286.0</td>\n",
              "      <td>0.0</td>\n",
              "      <td>2.0</td>\n",
              "      <td>108.0</td>\n",
              "      <td>1.0</td>\n",
              "      <td>1.5</td>\n",
              "      <td>2.0</td>\n",
              "      <td>3.0</td>\n",
              "      <td>3.0</td>\n",
              "      <td>2</td>\n",
              "    </tr>\n",
              "    <tr>\n",
              "      <th>2</th>\n",
              "      <td>67.0</td>\n",
              "      <td>1.0</td>\n",
              "      <td>4.0</td>\n",
              "      <td>120.0</td>\n",
              "      <td>229.0</td>\n",
              "      <td>0.0</td>\n",
              "      <td>2.0</td>\n",
              "      <td>129.0</td>\n",
              "      <td>1.0</td>\n",
              "      <td>2.6</td>\n",
              "      <td>2.0</td>\n",
              "      <td>2.0</td>\n",
              "      <td>7.0</td>\n",
              "      <td>1</td>\n",
              "    </tr>\n",
              "    <tr>\n",
              "      <th>3</th>\n",
              "      <td>37.0</td>\n",
              "      <td>1.0</td>\n",
              "      <td>3.0</td>\n",
              "      <td>130.0</td>\n",
              "      <td>250.0</td>\n",
              "      <td>0.0</td>\n",
              "      <td>0.0</td>\n",
              "      <td>187.0</td>\n",
              "      <td>0.0</td>\n",
              "      <td>3.5</td>\n",
              "      <td>3.0</td>\n",
              "      <td>0.0</td>\n",
              "      <td>3.0</td>\n",
              "      <td>0</td>\n",
              "    </tr>\n",
              "    <tr>\n",
              "      <th>4</th>\n",
              "      <td>41.0</td>\n",
              "      <td>0.0</td>\n",
              "      <td>2.0</td>\n",
              "      <td>130.0</td>\n",
              "      <td>204.0</td>\n",
              "      <td>0.0</td>\n",
              "      <td>2.0</td>\n",
              "      <td>172.0</td>\n",
              "      <td>0.0</td>\n",
              "      <td>1.4</td>\n",
              "      <td>1.0</td>\n",
              "      <td>0.0</td>\n",
              "      <td>3.0</td>\n",
              "      <td>0</td>\n",
              "    </tr>\n",
              "    <tr>\n",
              "      <th>...</th>\n",
              "      <td>...</td>\n",
              "      <td>...</td>\n",
              "      <td>...</td>\n",
              "      <td>...</td>\n",
              "      <td>...</td>\n",
              "      <td>...</td>\n",
              "      <td>...</td>\n",
              "      <td>...</td>\n",
              "      <td>...</td>\n",
              "      <td>...</td>\n",
              "      <td>...</td>\n",
              "      <td>...</td>\n",
              "      <td>...</td>\n",
              "      <td>...</td>\n",
              "    </tr>\n",
              "    <tr>\n",
              "      <th>298</th>\n",
              "      <td>45.0</td>\n",
              "      <td>1.0</td>\n",
              "      <td>1.0</td>\n",
              "      <td>110.0</td>\n",
              "      <td>264.0</td>\n",
              "      <td>0.0</td>\n",
              "      <td>0.0</td>\n",
              "      <td>132.0</td>\n",
              "      <td>0.0</td>\n",
              "      <td>1.2</td>\n",
              "      <td>2.0</td>\n",
              "      <td>0.0</td>\n",
              "      <td>7.0</td>\n",
              "      <td>1</td>\n",
              "    </tr>\n",
              "    <tr>\n",
              "      <th>299</th>\n",
              "      <td>68.0</td>\n",
              "      <td>1.0</td>\n",
              "      <td>4.0</td>\n",
              "      <td>144.0</td>\n",
              "      <td>193.0</td>\n",
              "      <td>1.0</td>\n",
              "      <td>0.0</td>\n",
              "      <td>141.0</td>\n",
              "      <td>0.0</td>\n",
              "      <td>3.4</td>\n",
              "      <td>2.0</td>\n",
              "      <td>2.0</td>\n",
              "      <td>7.0</td>\n",
              "      <td>2</td>\n",
              "    </tr>\n",
              "    <tr>\n",
              "      <th>300</th>\n",
              "      <td>57.0</td>\n",
              "      <td>1.0</td>\n",
              "      <td>4.0</td>\n",
              "      <td>130.0</td>\n",
              "      <td>131.0</td>\n",
              "      <td>0.0</td>\n",
              "      <td>0.0</td>\n",
              "      <td>115.0</td>\n",
              "      <td>1.0</td>\n",
              "      <td>1.2</td>\n",
              "      <td>2.0</td>\n",
              "      <td>1.0</td>\n",
              "      <td>7.0</td>\n",
              "      <td>3</td>\n",
              "    </tr>\n",
              "    <tr>\n",
              "      <th>301</th>\n",
              "      <td>57.0</td>\n",
              "      <td>0.0</td>\n",
              "      <td>2.0</td>\n",
              "      <td>130.0</td>\n",
              "      <td>236.0</td>\n",
              "      <td>0.0</td>\n",
              "      <td>2.0</td>\n",
              "      <td>174.0</td>\n",
              "      <td>0.0</td>\n",
              "      <td>0.0</td>\n",
              "      <td>2.0</td>\n",
              "      <td>1.0</td>\n",
              "      <td>3.0</td>\n",
              "      <td>1</td>\n",
              "    </tr>\n",
              "    <tr>\n",
              "      <th>302</th>\n",
              "      <td>38.0</td>\n",
              "      <td>1.0</td>\n",
              "      <td>3.0</td>\n",
              "      <td>138.0</td>\n",
              "      <td>175.0</td>\n",
              "      <td>0.0</td>\n",
              "      <td>0.0</td>\n",
              "      <td>173.0</td>\n",
              "      <td>0.0</td>\n",
              "      <td>0.0</td>\n",
              "      <td>1.0</td>\n",
              "      <td>?</td>\n",
              "      <td>3.0</td>\n",
              "      <td>0</td>\n",
              "    </tr>\n",
              "  </tbody>\n",
              "</table>\n",
              "<p>303 rows × 14 columns</p>\n",
              "</div>\n",
              "      <button class=\"colab-df-convert\" onclick=\"convertToInteractive('df-5d92fba8-f760-4af7-92a6-cbce420cc193')\"\n",
              "              title=\"Convert this dataframe to an interactive table.\"\n",
              "              style=\"display:none;\">\n",
              "        \n",
              "  <svg xmlns=\"http://www.w3.org/2000/svg\" height=\"24px\"viewBox=\"0 0 24 24\"\n",
              "       width=\"24px\">\n",
              "    <path d=\"M0 0h24v24H0V0z\" fill=\"none\"/>\n",
              "    <path d=\"M18.56 5.44l.94 2.06.94-2.06 2.06-.94-2.06-.94-.94-2.06-.94 2.06-2.06.94zm-11 1L8.5 8.5l.94-2.06 2.06-.94-2.06-.94L8.5 2.5l-.94 2.06-2.06.94zm10 10l.94 2.06.94-2.06 2.06-.94-2.06-.94-.94-2.06-.94 2.06-2.06.94z\"/><path d=\"M17.41 7.96l-1.37-1.37c-.4-.4-.92-.59-1.43-.59-.52 0-1.04.2-1.43.59L10.3 9.45l-7.72 7.72c-.78.78-.78 2.05 0 2.83L4 21.41c.39.39.9.59 1.41.59.51 0 1.02-.2 1.41-.59l7.78-7.78 2.81-2.81c.8-.78.8-2.07 0-2.86zM5.41 20L4 18.59l7.72-7.72 1.47 1.35L5.41 20z\"/>\n",
              "  </svg>\n",
              "      </button>\n",
              "      \n",
              "  <style>\n",
              "    .colab-df-container {\n",
              "      display:flex;\n",
              "      flex-wrap:wrap;\n",
              "      gap: 12px;\n",
              "    }\n",
              "\n",
              "    .colab-df-convert {\n",
              "      background-color: #E8F0FE;\n",
              "      border: none;\n",
              "      border-radius: 50%;\n",
              "      cursor: pointer;\n",
              "      display: none;\n",
              "      fill: #1967D2;\n",
              "      height: 32px;\n",
              "      padding: 0 0 0 0;\n",
              "      width: 32px;\n",
              "    }\n",
              "\n",
              "    .colab-df-convert:hover {\n",
              "      background-color: #E2EBFA;\n",
              "      box-shadow: 0px 1px 2px rgba(60, 64, 67, 0.3), 0px 1px 3px 1px rgba(60, 64, 67, 0.15);\n",
              "      fill: #174EA6;\n",
              "    }\n",
              "\n",
              "    [theme=dark] .colab-df-convert {\n",
              "      background-color: #3B4455;\n",
              "      fill: #D2E3FC;\n",
              "    }\n",
              "\n",
              "    [theme=dark] .colab-df-convert:hover {\n",
              "      background-color: #434B5C;\n",
              "      box-shadow: 0px 1px 3px 1px rgba(0, 0, 0, 0.15);\n",
              "      filter: drop-shadow(0px 1px 2px rgba(0, 0, 0, 0.3));\n",
              "      fill: #FFFFFF;\n",
              "    }\n",
              "  </style>\n",
              "\n",
              "      <script>\n",
              "        const buttonEl =\n",
              "          document.querySelector('#df-5d92fba8-f760-4af7-92a6-cbce420cc193 button.colab-df-convert');\n",
              "        buttonEl.style.display =\n",
              "          google.colab.kernel.accessAllowed ? 'block' : 'none';\n",
              "\n",
              "        async function convertToInteractive(key) {\n",
              "          const element = document.querySelector('#df-5d92fba8-f760-4af7-92a6-cbce420cc193');\n",
              "          const dataTable =\n",
              "            await google.colab.kernel.invokeFunction('convertToInteractive',\n",
              "                                                     [key], {});\n",
              "          if (!dataTable) return;\n",
              "\n",
              "          const docLinkHtml = 'Like what you see? Visit the ' +\n",
              "            '<a target=\"_blank\" href=https://colab.research.google.com/notebooks/data_table.ipynb>data table notebook</a>'\n",
              "            + ' to learn more about interactive tables.';\n",
              "          element.innerHTML = '';\n",
              "          dataTable['output_type'] = 'display_data';\n",
              "          await google.colab.output.renderOutput(dataTable, element);\n",
              "          const docLink = document.createElement('div');\n",
              "          docLink.innerHTML = docLinkHtml;\n",
              "          element.appendChild(docLink);\n",
              "        }\n",
              "      </script>\n",
              "    </div>\n",
              "  </div>\n",
              "  "
            ]
          },
          "metadata": {},
          "execution_count": 3
        }
      ]
    },
    {
      "cell_type": "code",
      "metadata": {
        "id": "adorFLDynr66",
        "colab": {
          "base_uri": "https://localhost:8080/"
        },
        "outputId": "16614d97-5968-4d28-bb2b-03c154c8fbb3"
      },
      "source": [
        "# to check the type of data variable\n",
        "\n",
        "type(heart_data)"
      ],
      "execution_count": null,
      "outputs": [
        {
          "output_type": "execute_result",
          "data": {
            "text/plain": [
              "pandas.core.frame.DataFrame"
            ]
          },
          "metadata": {},
          "execution_count": 4
        }
      ]
    },
    {
      "cell_type": "code",
      "metadata": {
        "colab": {
          "base_uri": "https://localhost:8080/",
          "height": 270
        },
        "id": "NygDFgHwQI2f",
        "outputId": "94792a56-12a4-41d3-83fd-74e1730873cf"
      },
      "source": [
        "# Display first five rows of the dataset\n",
        "heart_data.head() #head is first 5 rows"
      ],
      "execution_count": null,
      "outputs": [
        {
          "output_type": "execute_result",
          "data": {
            "text/plain": [
              "    age  sex   cp  trestbps   chol  fbs  restecg  thalach  exang  oldpeak  \\\n",
              "0  63.0  1.0  1.0     145.0  233.0  1.0      2.0    150.0    0.0      2.3   \n",
              "1  67.0  1.0  4.0     160.0  286.0  0.0      2.0    108.0    1.0      1.5   \n",
              "2  67.0  1.0  4.0     120.0  229.0  0.0      2.0    129.0    1.0      2.6   \n",
              "3  37.0  1.0  3.0     130.0  250.0  0.0      0.0    187.0    0.0      3.5   \n",
              "4  41.0  0.0  2.0     130.0  204.0  0.0      2.0    172.0    0.0      1.4   \n",
              "\n",
              "   slope   ca thal  num  \n",
              "0    3.0  0.0  6.0    0  \n",
              "1    2.0  3.0  3.0    2  \n",
              "2    2.0  2.0  7.0    1  \n",
              "3    3.0  0.0  3.0    0  \n",
              "4    1.0  0.0  3.0    0  "
            ],
            "text/html": [
              "\n",
              "  <div id=\"df-66a3dbe5-3c59-408b-8894-c2c2e6c7edb5\">\n",
              "    <div class=\"colab-df-container\">\n",
              "      <div>\n",
              "<style scoped>\n",
              "    .dataframe tbody tr th:only-of-type {\n",
              "        vertical-align: middle;\n",
              "    }\n",
              "\n",
              "    .dataframe tbody tr th {\n",
              "        vertical-align: top;\n",
              "    }\n",
              "\n",
              "    .dataframe thead th {\n",
              "        text-align: right;\n",
              "    }\n",
              "</style>\n",
              "<table border=\"1\" class=\"dataframe\">\n",
              "  <thead>\n",
              "    <tr style=\"text-align: right;\">\n",
              "      <th></th>\n",
              "      <th>age</th>\n",
              "      <th>sex</th>\n",
              "      <th>cp</th>\n",
              "      <th>trestbps</th>\n",
              "      <th>chol</th>\n",
              "      <th>fbs</th>\n",
              "      <th>restecg</th>\n",
              "      <th>thalach</th>\n",
              "      <th>exang</th>\n",
              "      <th>oldpeak</th>\n",
              "      <th>slope</th>\n",
              "      <th>ca</th>\n",
              "      <th>thal</th>\n",
              "      <th>num</th>\n",
              "    </tr>\n",
              "  </thead>\n",
              "  <tbody>\n",
              "    <tr>\n",
              "      <th>0</th>\n",
              "      <td>63.0</td>\n",
              "      <td>1.0</td>\n",
              "      <td>1.0</td>\n",
              "      <td>145.0</td>\n",
              "      <td>233.0</td>\n",
              "      <td>1.0</td>\n",
              "      <td>2.0</td>\n",
              "      <td>150.0</td>\n",
              "      <td>0.0</td>\n",
              "      <td>2.3</td>\n",
              "      <td>3.0</td>\n",
              "      <td>0.0</td>\n",
              "      <td>6.0</td>\n",
              "      <td>0</td>\n",
              "    </tr>\n",
              "    <tr>\n",
              "      <th>1</th>\n",
              "      <td>67.0</td>\n",
              "      <td>1.0</td>\n",
              "      <td>4.0</td>\n",
              "      <td>160.0</td>\n",
              "      <td>286.0</td>\n",
              "      <td>0.0</td>\n",
              "      <td>2.0</td>\n",
              "      <td>108.0</td>\n",
              "      <td>1.0</td>\n",
              "      <td>1.5</td>\n",
              "      <td>2.0</td>\n",
              "      <td>3.0</td>\n",
              "      <td>3.0</td>\n",
              "      <td>2</td>\n",
              "    </tr>\n",
              "    <tr>\n",
              "      <th>2</th>\n",
              "      <td>67.0</td>\n",
              "      <td>1.0</td>\n",
              "      <td>4.0</td>\n",
              "      <td>120.0</td>\n",
              "      <td>229.0</td>\n",
              "      <td>0.0</td>\n",
              "      <td>2.0</td>\n",
              "      <td>129.0</td>\n",
              "      <td>1.0</td>\n",
              "      <td>2.6</td>\n",
              "      <td>2.0</td>\n",
              "      <td>2.0</td>\n",
              "      <td>7.0</td>\n",
              "      <td>1</td>\n",
              "    </tr>\n",
              "    <tr>\n",
              "      <th>3</th>\n",
              "      <td>37.0</td>\n",
              "      <td>1.0</td>\n",
              "      <td>3.0</td>\n",
              "      <td>130.0</td>\n",
              "      <td>250.0</td>\n",
              "      <td>0.0</td>\n",
              "      <td>0.0</td>\n",
              "      <td>187.0</td>\n",
              "      <td>0.0</td>\n",
              "      <td>3.5</td>\n",
              "      <td>3.0</td>\n",
              "      <td>0.0</td>\n",
              "      <td>3.0</td>\n",
              "      <td>0</td>\n",
              "    </tr>\n",
              "    <tr>\n",
              "      <th>4</th>\n",
              "      <td>41.0</td>\n",
              "      <td>0.0</td>\n",
              "      <td>2.0</td>\n",
              "      <td>130.0</td>\n",
              "      <td>204.0</td>\n",
              "      <td>0.0</td>\n",
              "      <td>2.0</td>\n",
              "      <td>172.0</td>\n",
              "      <td>0.0</td>\n",
              "      <td>1.4</td>\n",
              "      <td>1.0</td>\n",
              "      <td>0.0</td>\n",
              "      <td>3.0</td>\n",
              "      <td>0</td>\n",
              "    </tr>\n",
              "  </tbody>\n",
              "</table>\n",
              "</div>\n",
              "      <button class=\"colab-df-convert\" onclick=\"convertToInteractive('df-66a3dbe5-3c59-408b-8894-c2c2e6c7edb5')\"\n",
              "              title=\"Convert this dataframe to an interactive table.\"\n",
              "              style=\"display:none;\">\n",
              "        \n",
              "  <svg xmlns=\"http://www.w3.org/2000/svg\" height=\"24px\"viewBox=\"0 0 24 24\"\n",
              "       width=\"24px\">\n",
              "    <path d=\"M0 0h24v24H0V0z\" fill=\"none\"/>\n",
              "    <path d=\"M18.56 5.44l.94 2.06.94-2.06 2.06-.94-2.06-.94-.94-2.06-.94 2.06-2.06.94zm-11 1L8.5 8.5l.94-2.06 2.06-.94-2.06-.94L8.5 2.5l-.94 2.06-2.06.94zm10 10l.94 2.06.94-2.06 2.06-.94-2.06-.94-.94-2.06-.94 2.06-2.06.94z\"/><path d=\"M17.41 7.96l-1.37-1.37c-.4-.4-.92-.59-1.43-.59-.52 0-1.04.2-1.43.59L10.3 9.45l-7.72 7.72c-.78.78-.78 2.05 0 2.83L4 21.41c.39.39.9.59 1.41.59.51 0 1.02-.2 1.41-.59l7.78-7.78 2.81-2.81c.8-.78.8-2.07 0-2.86zM5.41 20L4 18.59l7.72-7.72 1.47 1.35L5.41 20z\"/>\n",
              "  </svg>\n",
              "      </button>\n",
              "      \n",
              "  <style>\n",
              "    .colab-df-container {\n",
              "      display:flex;\n",
              "      flex-wrap:wrap;\n",
              "      gap: 12px;\n",
              "    }\n",
              "\n",
              "    .colab-df-convert {\n",
              "      background-color: #E8F0FE;\n",
              "      border: none;\n",
              "      border-radius: 50%;\n",
              "      cursor: pointer;\n",
              "      display: none;\n",
              "      fill: #1967D2;\n",
              "      height: 32px;\n",
              "      padding: 0 0 0 0;\n",
              "      width: 32px;\n",
              "    }\n",
              "\n",
              "    .colab-df-convert:hover {\n",
              "      background-color: #E2EBFA;\n",
              "      box-shadow: 0px 1px 2px rgba(60, 64, 67, 0.3), 0px 1px 3px 1px rgba(60, 64, 67, 0.15);\n",
              "      fill: #174EA6;\n",
              "    }\n",
              "\n",
              "    [theme=dark] .colab-df-convert {\n",
              "      background-color: #3B4455;\n",
              "      fill: #D2E3FC;\n",
              "    }\n",
              "\n",
              "    [theme=dark] .colab-df-convert:hover {\n",
              "      background-color: #434B5C;\n",
              "      box-shadow: 0px 1px 3px 1px rgba(0, 0, 0, 0.15);\n",
              "      filter: drop-shadow(0px 1px 2px rgba(0, 0, 0, 0.3));\n",
              "      fill: #FFFFFF;\n",
              "    }\n",
              "  </style>\n",
              "\n",
              "      <script>\n",
              "        const buttonEl =\n",
              "          document.querySelector('#df-66a3dbe5-3c59-408b-8894-c2c2e6c7edb5 button.colab-df-convert');\n",
              "        buttonEl.style.display =\n",
              "          google.colab.kernel.accessAllowed ? 'block' : 'none';\n",
              "\n",
              "        async function convertToInteractive(key) {\n",
              "          const element = document.querySelector('#df-66a3dbe5-3c59-408b-8894-c2c2e6c7edb5');\n",
              "          const dataTable =\n",
              "            await google.colab.kernel.invokeFunction('convertToInteractive',\n",
              "                                                     [key], {});\n",
              "          if (!dataTable) return;\n",
              "\n",
              "          const docLinkHtml = 'Like what you see? Visit the ' +\n",
              "            '<a target=\"_blank\" href=https://colab.research.google.com/notebooks/data_table.ipynb>data table notebook</a>'\n",
              "            + ' to learn more about interactive tables.';\n",
              "          element.innerHTML = '';\n",
              "          dataTable['output_type'] = 'display_data';\n",
              "          await google.colab.output.renderOutput(dataTable, element);\n",
              "          const docLink = document.createElement('div');\n",
              "          docLink.innerHTML = docLinkHtml;\n",
              "          element.appendChild(docLink);\n",
              "        }\n",
              "      </script>\n",
              "    </div>\n",
              "  </div>\n",
              "  "
            ]
          },
          "metadata": {},
          "execution_count": 5
        }
      ]
    },
    {
      "cell_type": "code",
      "metadata": {
        "colab": {
          "base_uri": "https://localhost:8080/",
          "height": 270
        },
        "id": "LVth-u7Jg_W_",
        "outputId": "73a91fec-931c-4f09-bb6d-69d2b57bc2c5"
      },
      "source": [
        "# Display last five rows of the dataset\n",
        "heart_data.tail() #tail is last 5 rows"
      ],
      "execution_count": null,
      "outputs": [
        {
          "output_type": "execute_result",
          "data": {
            "text/plain": [
              "      age  sex   cp  trestbps   chol  fbs  restecg  thalach  exang  oldpeak  \\\n",
              "298  45.0  1.0  1.0     110.0  264.0  0.0      0.0    132.0    0.0      1.2   \n",
              "299  68.0  1.0  4.0     144.0  193.0  1.0      0.0    141.0    0.0      3.4   \n",
              "300  57.0  1.0  4.0     130.0  131.0  0.0      0.0    115.0    1.0      1.2   \n",
              "301  57.0  0.0  2.0     130.0  236.0  0.0      2.0    174.0    0.0      0.0   \n",
              "302  38.0  1.0  3.0     138.0  175.0  0.0      0.0    173.0    0.0      0.0   \n",
              "\n",
              "     slope   ca thal  num  \n",
              "298    2.0  0.0  7.0    1  \n",
              "299    2.0  2.0  7.0    2  \n",
              "300    2.0  1.0  7.0    3  \n",
              "301    2.0  1.0  3.0    1  \n",
              "302    1.0    ?  3.0    0  "
            ],
            "text/html": [
              "\n",
              "  <div id=\"df-fde05ce4-7b92-4dca-a02c-256f2a2467f5\">\n",
              "    <div class=\"colab-df-container\">\n",
              "      <div>\n",
              "<style scoped>\n",
              "    .dataframe tbody tr th:only-of-type {\n",
              "        vertical-align: middle;\n",
              "    }\n",
              "\n",
              "    .dataframe tbody tr th {\n",
              "        vertical-align: top;\n",
              "    }\n",
              "\n",
              "    .dataframe thead th {\n",
              "        text-align: right;\n",
              "    }\n",
              "</style>\n",
              "<table border=\"1\" class=\"dataframe\">\n",
              "  <thead>\n",
              "    <tr style=\"text-align: right;\">\n",
              "      <th></th>\n",
              "      <th>age</th>\n",
              "      <th>sex</th>\n",
              "      <th>cp</th>\n",
              "      <th>trestbps</th>\n",
              "      <th>chol</th>\n",
              "      <th>fbs</th>\n",
              "      <th>restecg</th>\n",
              "      <th>thalach</th>\n",
              "      <th>exang</th>\n",
              "      <th>oldpeak</th>\n",
              "      <th>slope</th>\n",
              "      <th>ca</th>\n",
              "      <th>thal</th>\n",
              "      <th>num</th>\n",
              "    </tr>\n",
              "  </thead>\n",
              "  <tbody>\n",
              "    <tr>\n",
              "      <th>298</th>\n",
              "      <td>45.0</td>\n",
              "      <td>1.0</td>\n",
              "      <td>1.0</td>\n",
              "      <td>110.0</td>\n",
              "      <td>264.0</td>\n",
              "      <td>0.0</td>\n",
              "      <td>0.0</td>\n",
              "      <td>132.0</td>\n",
              "      <td>0.0</td>\n",
              "      <td>1.2</td>\n",
              "      <td>2.0</td>\n",
              "      <td>0.0</td>\n",
              "      <td>7.0</td>\n",
              "      <td>1</td>\n",
              "    </tr>\n",
              "    <tr>\n",
              "      <th>299</th>\n",
              "      <td>68.0</td>\n",
              "      <td>1.0</td>\n",
              "      <td>4.0</td>\n",
              "      <td>144.0</td>\n",
              "      <td>193.0</td>\n",
              "      <td>1.0</td>\n",
              "      <td>0.0</td>\n",
              "      <td>141.0</td>\n",
              "      <td>0.0</td>\n",
              "      <td>3.4</td>\n",
              "      <td>2.0</td>\n",
              "      <td>2.0</td>\n",
              "      <td>7.0</td>\n",
              "      <td>2</td>\n",
              "    </tr>\n",
              "    <tr>\n",
              "      <th>300</th>\n",
              "      <td>57.0</td>\n",
              "      <td>1.0</td>\n",
              "      <td>4.0</td>\n",
              "      <td>130.0</td>\n",
              "      <td>131.0</td>\n",
              "      <td>0.0</td>\n",
              "      <td>0.0</td>\n",
              "      <td>115.0</td>\n",
              "      <td>1.0</td>\n",
              "      <td>1.2</td>\n",
              "      <td>2.0</td>\n",
              "      <td>1.0</td>\n",
              "      <td>7.0</td>\n",
              "      <td>3</td>\n",
              "    </tr>\n",
              "    <tr>\n",
              "      <th>301</th>\n",
              "      <td>57.0</td>\n",
              "      <td>0.0</td>\n",
              "      <td>2.0</td>\n",
              "      <td>130.0</td>\n",
              "      <td>236.0</td>\n",
              "      <td>0.0</td>\n",
              "      <td>2.0</td>\n",
              "      <td>174.0</td>\n",
              "      <td>0.0</td>\n",
              "      <td>0.0</td>\n",
              "      <td>2.0</td>\n",
              "      <td>1.0</td>\n",
              "      <td>3.0</td>\n",
              "      <td>1</td>\n",
              "    </tr>\n",
              "    <tr>\n",
              "      <th>302</th>\n",
              "      <td>38.0</td>\n",
              "      <td>1.0</td>\n",
              "      <td>3.0</td>\n",
              "      <td>138.0</td>\n",
              "      <td>175.0</td>\n",
              "      <td>0.0</td>\n",
              "      <td>0.0</td>\n",
              "      <td>173.0</td>\n",
              "      <td>0.0</td>\n",
              "      <td>0.0</td>\n",
              "      <td>1.0</td>\n",
              "      <td>?</td>\n",
              "      <td>3.0</td>\n",
              "      <td>0</td>\n",
              "    </tr>\n",
              "  </tbody>\n",
              "</table>\n",
              "</div>\n",
              "      <button class=\"colab-df-convert\" onclick=\"convertToInteractive('df-fde05ce4-7b92-4dca-a02c-256f2a2467f5')\"\n",
              "              title=\"Convert this dataframe to an interactive table.\"\n",
              "              style=\"display:none;\">\n",
              "        \n",
              "  <svg xmlns=\"http://www.w3.org/2000/svg\" height=\"24px\"viewBox=\"0 0 24 24\"\n",
              "       width=\"24px\">\n",
              "    <path d=\"M0 0h24v24H0V0z\" fill=\"none\"/>\n",
              "    <path d=\"M18.56 5.44l.94 2.06.94-2.06 2.06-.94-2.06-.94-.94-2.06-.94 2.06-2.06.94zm-11 1L8.5 8.5l.94-2.06 2.06-.94-2.06-.94L8.5 2.5l-.94 2.06-2.06.94zm10 10l.94 2.06.94-2.06 2.06-.94-2.06-.94-.94-2.06-.94 2.06-2.06.94z\"/><path d=\"M17.41 7.96l-1.37-1.37c-.4-.4-.92-.59-1.43-.59-.52 0-1.04.2-1.43.59L10.3 9.45l-7.72 7.72c-.78.78-.78 2.05 0 2.83L4 21.41c.39.39.9.59 1.41.59.51 0 1.02-.2 1.41-.59l7.78-7.78 2.81-2.81c.8-.78.8-2.07 0-2.86zM5.41 20L4 18.59l7.72-7.72 1.47 1.35L5.41 20z\"/>\n",
              "  </svg>\n",
              "      </button>\n",
              "      \n",
              "  <style>\n",
              "    .colab-df-container {\n",
              "      display:flex;\n",
              "      flex-wrap:wrap;\n",
              "      gap: 12px;\n",
              "    }\n",
              "\n",
              "    .colab-df-convert {\n",
              "      background-color: #E8F0FE;\n",
              "      border: none;\n",
              "      border-radius: 50%;\n",
              "      cursor: pointer;\n",
              "      display: none;\n",
              "      fill: #1967D2;\n",
              "      height: 32px;\n",
              "      padding: 0 0 0 0;\n",
              "      width: 32px;\n",
              "    }\n",
              "\n",
              "    .colab-df-convert:hover {\n",
              "      background-color: #E2EBFA;\n",
              "      box-shadow: 0px 1px 2px rgba(60, 64, 67, 0.3), 0px 1px 3px 1px rgba(60, 64, 67, 0.15);\n",
              "      fill: #174EA6;\n",
              "    }\n",
              "\n",
              "    [theme=dark] .colab-df-convert {\n",
              "      background-color: #3B4455;\n",
              "      fill: #D2E3FC;\n",
              "    }\n",
              "\n",
              "    [theme=dark] .colab-df-convert:hover {\n",
              "      background-color: #434B5C;\n",
              "      box-shadow: 0px 1px 3px 1px rgba(0, 0, 0, 0.15);\n",
              "      filter: drop-shadow(0px 1px 2px rgba(0, 0, 0, 0.3));\n",
              "      fill: #FFFFFF;\n",
              "    }\n",
              "  </style>\n",
              "\n",
              "      <script>\n",
              "        const buttonEl =\n",
              "          document.querySelector('#df-fde05ce4-7b92-4dca-a02c-256f2a2467f5 button.colab-df-convert');\n",
              "        buttonEl.style.display =\n",
              "          google.colab.kernel.accessAllowed ? 'block' : 'none';\n",
              "\n",
              "        async function convertToInteractive(key) {\n",
              "          const element = document.querySelector('#df-fde05ce4-7b92-4dca-a02c-256f2a2467f5');\n",
              "          const dataTable =\n",
              "            await google.colab.kernel.invokeFunction('convertToInteractive',\n",
              "                                                     [key], {});\n",
              "          if (!dataTable) return;\n",
              "\n",
              "          const docLinkHtml = 'Like what you see? Visit the ' +\n",
              "            '<a target=\"_blank\" href=https://colab.research.google.com/notebooks/data_table.ipynb>data table notebook</a>'\n",
              "            + ' to learn more about interactive tables.';\n",
              "          element.innerHTML = '';\n",
              "          dataTable['output_type'] = 'display_data';\n",
              "          await google.colab.output.renderOutput(dataTable, element);\n",
              "          const docLink = document.createElement('div');\n",
              "          docLink.innerHTML = docLinkHtml;\n",
              "          element.appendChild(docLink);\n",
              "        }\n",
              "      </script>\n",
              "    </div>\n",
              "  </div>\n",
              "  "
            ]
          },
          "metadata": {},
          "execution_count": 6
        }
      ]
    },
    {
      "cell_type": "markdown",
      "metadata": {
        "id": "TlQlm0HEfy7S"
      },
      "source": [
        "# **Visualizing dataset and features**"
      ]
    },
    {
      "cell_type": "code",
      "metadata": {
        "colab": {
          "base_uri": "https://localhost:8080/",
          "height": 1000
        },
        "id": "xZa7PbQoQmXM",
        "outputId": "4e75eb0a-2447-48a7-a573-cc915a826c00"
      },
      "source": [
        "for feature in cols:\n",
        "  plt.hist(heart_data[feature])\n",
        "  plt.title(feature)\n",
        "  # display histogram\n",
        "  plt.show()"
      ],
      "execution_count": null,
      "outputs": [
        {
          "output_type": "display_data",
          "data": {
            "text/plain": [
              "<Figure size 432x288 with 1 Axes>"
            ],
            "image/png": "[encoded data removed]"
          },
          "metadata": {
            "needs_background": "light"
          }
        },
        {
          "output_type": "display_data",
          "data": {
            "text/plain": [
              "<Figure size 432x288 with 1 Axes>"
            ],
            "image/png": "[encoded data removed]"
          },
          "metadata": {
            "needs_background": "light"
          }
        },
        {
          "output_type": "display_data",
          "data": {
            "text/plain": [
              "<Figure size 432x288 with 1 Axes>"
            ],
            "image/png": "[encoded data removed]"
          },
          "metadata": {
            "needs_background": "light"
          }
        },
        {
          "output_type": "display_data",
          "data": {
            "text/plain": [
              "<Figure size 432x288 with 1 Axes>"
            ],
            "image/png": "[encoded data removed]"
          },
          "metadata": {
            "needs_background": "light"
          }
        },
        {
          "output_type": "display_data",
          "data": {
            "text/plain": [
              "<Figure size 432x288 with 1 Axes>"
            ],
            "image/png": "[encoded data removed]"
          },
          "metadata": {
            "needs_background": "light"
          }
        },
        {
          "output_type": "display_data",
          "data": {
            "text/plain": [
              "<Figure size 432x288 with 1 Axes>"
            ],
            "image/png": "[encoded data removed]"
          },
          "metadata": {
            "needs_background": "light"
          }
        },
        {
          "output_type": "display_data",
          "data": {
            "text/plain": [
              "<Figure size 432x288 with 1 Axes>"
            ],
            "image/png": "[encoded data removed]"
          },
          "metadata": {
            "needs_background": "light"
          }
        },
        {
          "output_type": "display_data",
          "data": {
            "text/plain": [
              "<Figure size 432x288 with 1 Axes>"
            ],
            "image/png": "[encoded data removed]"
          },
          "metadata": {
            "needs_background": "light"
          }
        },
        {
          "output_type": "display_data",
          "data": {
            "text/plain": [
              "<Figure size 432x288 with 1 Axes>"
            ],
            "image/png": "[encoded data removed]"
          },
          "metadata": {
            "needs_background": "light"
          }
        },
        {
          "output_type": "display_data",
          "data": {
            "text/plain": [
              "<Figure size 432x288 with 1 Axes>"
            ],
            "image/png": "[encoded data removed]"
          },
          "metadata": {
            "needs_background": "light"
          }
        },
        {
          "output_type": "display_data",
          "data": {
            "text/plain": [
              "<Figure size 432x288 with 1 Axes>"
            ],
            "image/png": "[encoded data removed]"
          },
          "metadata": {
            "needs_background": "light"
          }
        },
        {
          "output_type": "display_data",
          "data": {
            "text/plain": [
              "<Figure size 432x288 with 1 Axes>"
            ],
            "image/png": "[encoded data removed]"
          },
          "metadata": {
            "needs_background": "light"
          }
        },
        {
          "output_type": "display_data",
          "data": {
            "text/plain": [
              "<Figure size 432x288 with 1 Axes>"
            ],
            "image/png": "[encoded data removed]"
          },
          "metadata": {
            "needs_background": "light"
          }
        },
        {
          "output_type": "display_data",
          "data": {
            "text/plain": [
              "<Figure size 432x288 with 1 Axes>"
            ],
            "image/png": "[encoded data removed]"
          },
          "metadata": {
            "needs_background": "light"
          }
        }
      ]
    },
    {
      "cell_type": "markdown",
      "metadata": {
        "id": "s0f5UEjYjjH0"
      },
      "source": [
        "### **Preprocessing : class labels**\n",
        "\n",
        "* Experiments with the  database have concentrated on simply attempting to distinguish presence (values 1,2,3,4) from absence (value 0)\n",
        "* Let us change instances with labels 2,3 and 4 to 1."
      ]
    },
    {
      "cell_type": "code",
      "metadata": {
        "colab": {
          "base_uri": "https://localhost:8080/",
          "height": 488
        },
        "id": "rEE65sbRj2H8",
        "outputId": "ef3f6889-2772-4467-90aa-cdd83bb9f0d9"
      },
      "source": [
        "# converting class labels 2,3, and 4 into label 1\n",
        "heart_data = heart_data.replace({\"num\":  {2:1,3:1, 4:1}})\n",
        "\n",
        "# Visualize the label\n",
        "heart_data"
      ],
      "execution_count": null,
      "outputs": [
        {
          "output_type": "execute_result",
          "data": {
            "text/plain": [
              "      age  sex   cp  trestbps   chol  fbs  restecg  thalach  exang  oldpeak  \\\n",
              "0    63.0  1.0  1.0     145.0  233.0  1.0      2.0    150.0    0.0      2.3   \n",
              "1    67.0  1.0  4.0     160.0  286.0  0.0      2.0    108.0    1.0      1.5   \n",
              "2    67.0  1.0  4.0     120.0  229.0  0.0      2.0    129.0    1.0      2.6   \n",
              "3    37.0  1.0  3.0     130.0  250.0  0.0      0.0    187.0    0.0      3.5   \n",
              "4    41.0  0.0  2.0     130.0  204.0  0.0      2.0    172.0    0.0      1.4   \n",
              "..    ...  ...  ...       ...    ...  ...      ...      ...    ...      ...   \n",
              "298  45.0  1.0  1.0     110.0  264.0  0.0      0.0    132.0    0.0      1.2   \n",
              "299  68.0  1.0  4.0     144.0  193.0  1.0      0.0    141.0    0.0      3.4   \n",
              "300  57.0  1.0  4.0     130.0  131.0  0.0      0.0    115.0    1.0      1.2   \n",
              "301  57.0  0.0  2.0     130.0  236.0  0.0      2.0    174.0    0.0      0.0   \n",
              "302  38.0  1.0  3.0     138.0  175.0  0.0      0.0    173.0    0.0      0.0   \n",
              "\n",
              "     slope   ca thal  num  \n",
              "0      3.0  0.0  6.0    0  \n",
              "1      2.0  3.0  3.0    1  \n",
              "2      2.0  2.0  7.0    1  \n",
              "3      3.0  0.0  3.0    0  \n",
              "4      1.0  0.0  3.0    0  \n",
              "..     ...  ...  ...  ...  \n",
              "298    2.0  0.0  7.0    1  \n",
              "299    2.0  2.0  7.0    1  \n",
              "300    2.0  1.0  7.0    1  \n",
              "301    2.0  1.0  3.0    1  \n",
              "302    1.0    ?  3.0    0  \n",
              "\n",
              "[303 rows x 14 columns]"
            ],
            "text/html": [
              "\n",
              "  <div id=\"df-3dadb199-18dc-46e2-af33-220776c1dbfb\">\n",
              "    <div class=\"colab-df-container\">\n",
              "      <div>\n",
              "<style scoped>\n",
              "    .dataframe tbody tr th:only-of-type {\n",
              "        vertical-align: middle;\n",
              "    }\n",
              "\n",
              "    .dataframe tbody tr th {\n",
              "        vertical-align: top;\n",
              "    }\n",
              "\n",
              "    .dataframe thead th {\n",
              "        text-align: right;\n",
              "    }\n",
              "</style>\n",
              "<table border=\"1\" class=\"dataframe\">\n",
              "  <thead>\n",
              "    <tr style=\"text-align: right;\">\n",
              "      <th></th>\n",
              "      <th>age</th>\n",
              "      <th>sex</th>\n",
              "      <th>cp</th>\n",
              "      <th>trestbps</th>\n",
              "      <th>chol</th>\n",
              "      <th>fbs</th>\n",
              "      <th>restecg</th>\n",
              "      <th>thalach</th>\n",
              "      <th>exang</th>\n",
              "      <th>oldpeak</th>\n",
              "      <th>slope</th>\n",
              "      <th>ca</th>\n",
              "      <th>thal</th>\n",
              "      <th>num</th>\n",
              "    </tr>\n",
              "  </thead>\n",
              "  <tbody>\n",
              "    <tr>\n",
              "      <th>0</th>\n",
              "      <td>63.0</td>\n",
              "      <td>1.0</td>\n",
              "      <td>1.0</td>\n",
              "      <td>145.0</td>\n",
              "      <td>233.0</td>\n",
              "      <td>1.0</td>\n",
              "      <td>2.0</td>\n",
              "      <td>150.0</td>\n",
              "      <td>0.0</td>\n",
              "      <td>2.3</td>\n",
              "      <td>3.0</td>\n",
              "      <td>0.0</td>\n",
              "      <td>6.0</td>\n",
              "      <td>0</td>\n",
              "    </tr>\n",
              "    <tr>\n",
              "      <th>1</th>\n",
              "      <td>67.0</td>\n",
              "      <td>1.0</td>\n",
              "      <td>4.0</td>\n",
              "      <td>160.0</td>\n",
              "      <td>286.0</td>\n",
              "      <td>0.0</td>\n",
              "      <td>2.0</td>\n",
              "      <td>108.0</td>\n",
              "      <td>1.0</td>\n",
              "      <td>1.5</td>\n",
              "      <td>2.0</td>\n",
              "      <td>3.0</td>\n",
              "      <td>3.0</td>\n",
              "      <td>1</td>\n",
              "    </tr>\n",
              "    <tr>\n",
              "      <th>2</th>\n",
              "      <td>67.0</td>\n",
              "      <td>1.0</td>\n",
              "      <td>4.0</td>\n",
              "      <td>120.0</td>\n",
              "      <td>229.0</td>\n",
              "      <td>0.0</td>\n",
              "      <td>2.0</td>\n",
              "      <td>129.0</td>\n",
              "      <td>1.0</td>\n",
              "      <td>2.6</td>\n",
              "      <td>2.0</td>\n",
              "      <td>2.0</td>\n",
              "      <td>7.0</td>\n",
              "      <td>1</td>\n",
              "    </tr>\n",
              "    <tr>\n",
              "      <th>3</th>\n",
              "      <td>37.0</td>\n",
              "      <td>1.0</td>\n",
              "      <td>3.0</td>\n",
              "      <td>130.0</td>\n",
              "      <td>250.0</td>\n",
              "      <td>0.0</td>\n",
              "      <td>0.0</td>\n",
              "      <td>187.0</td>\n",
              "      <td>0.0</td>\n",
              "      <td>3.5</td>\n",
              "      <td>3.0</td>\n",
              "      <td>0.0</td>\n",
              "      <td>3.0</td>\n",
              "      <td>0</td>\n",
              "    </tr>\n",
              "    <tr>\n",
              "      <th>4</th>\n",
              "      <td>41.0</td>\n",
              "      <td>0.0</td>\n",
              "      <td>2.0</td>\n",
              "      <td>130.0</td>\n",
              "      <td>204.0</td>\n",
              "      <td>0.0</td>\n",
              "      <td>2.0</td>\n",
              "      <td>172.0</td>\n",
              "      <td>0.0</td>\n",
              "      <td>1.4</td>\n",
              "      <td>1.0</td>\n",
              "      <td>0.0</td>\n",
              "      <td>3.0</td>\n",
              "      <td>0</td>\n",
              "    </tr>\n",
              "    <tr>\n",
              "      <th>...</th>\n",
              "      <td>...</td>\n",
              "      <td>...</td>\n",
              "      <td>...</td>\n",
              "      <td>...</td>\n",
              "      <td>...</td>\n",
              "      <td>...</td>\n",
              "      <td>...</td>\n",
              "      <td>...</td>\n",
              "      <td>...</td>\n",
              "      <td>...</td>\n",
              "      <td>...</td>\n",
              "      <td>...</td>\n",
              "      <td>...</td>\n",
              "      <td>...</td>\n",
              "    </tr>\n",
              "    <tr>\n",
              "      <th>298</th>\n",
              "      <td>45.0</td>\n",
              "      <td>1.0</td>\n",
              "      <td>1.0</td>\n",
              "      <td>110.0</td>\n",
              "      <td>264.0</td>\n",
              "      <td>0.0</td>\n",
              "      <td>0.0</td>\n",
              "      <td>132.0</td>\n",
              "      <td>0.0</td>\n",
              "      <td>1.2</td>\n",
              "      <td>2.0</td>\n",
              "      <td>0.0</td>\n",
              "      <td>7.0</td>\n",
              "      <td>1</td>\n",
              "    </tr>\n",
              "    <tr>\n",
              "      <th>299</th>\n",
              "      <td>68.0</td>\n",
              "      <td>1.0</td>\n",
              "      <td>4.0</td>\n",
              "      <td>144.0</td>\n",
              "      <td>193.0</td>\n",
              "      <td>1.0</td>\n",
              "      <td>0.0</td>\n",
              "      <td>141.0</td>\n",
              "      <td>0.0</td>\n",
              "      <td>3.4</td>\n",
              "      <td>2.0</td>\n",
              "      <td>2.0</td>\n",
              "      <td>7.0</td>\n",
              "      <td>1</td>\n",
              "    </tr>\n",
              "    <tr>\n",
              "      <th>300</th>\n",
              "      <td>57.0</td>\n",
              "      <td>1.0</td>\n",
              "      <td>4.0</td>\n",
              "      <td>130.0</td>\n",
              "      <td>131.0</td>\n",
              "      <td>0.0</td>\n",
              "      <td>0.0</td>\n",
              "      <td>115.0</td>\n",
              "      <td>1.0</td>\n",
              "      <td>1.2</td>\n",
              "      <td>2.0</td>\n",
              "      <td>1.0</td>\n",
              "      <td>7.0</td>\n",
              "      <td>1</td>\n",
              "    </tr>\n",
              "    <tr>\n",
              "      <th>301</th>\n",
              "      <td>57.0</td>\n",
              "      <td>0.0</td>\n",
              "      <td>2.0</td>\n",
              "      <td>130.0</td>\n",
              "      <td>236.0</td>\n",
              "      <td>0.0</td>\n",
              "      <td>2.0</td>\n",
              "      <td>174.0</td>\n",
              "      <td>0.0</td>\n",
              "      <td>0.0</td>\n",
              "      <td>2.0</td>\n",
              "      <td>1.0</td>\n",
              "      <td>3.0</td>\n",
              "      <td>1</td>\n",
              "    </tr>\n",
              "    <tr>\n",
              "      <th>302</th>\n",
              "      <td>38.0</td>\n",
              "      <td>1.0</td>\n",
              "      <td>3.0</td>\n",
              "      <td>138.0</td>\n",
              "      <td>175.0</td>\n",
              "      <td>0.0</td>\n",
              "      <td>0.0</td>\n",
              "      <td>173.0</td>\n",
              "      <td>0.0</td>\n",
              "      <td>0.0</td>\n",
              "      <td>1.0</td>\n",
              "      <td>?</td>\n",
              "      <td>3.0</td>\n",
              "      <td>0</td>\n",
              "    </tr>\n",
              "  </tbody>\n",
              "</table>\n",
              "<p>303 rows × 14 columns</p>\n",
              "</div>\n",
              "      <button class=\"colab-df-convert\" onclick=\"convertToInteractive('df-3dadb199-18dc-46e2-af33-220776c1dbfb')\"\n",
              "              title=\"Convert this dataframe to an interactive table.\"\n",
              "              style=\"display:none;\">\n",
              "        \n",
              "  <svg xmlns=\"http://www.w3.org/2000/svg\" height=\"24px\"viewBox=\"0 0 24 24\"\n",
              "       width=\"24px\">\n",
              "    <path d=\"M0 0h24v24H0V0z\" fill=\"none\"/>\n",
              "    <path d=\"M18.56 5.44l.94 2.06.94-2.06 2.06-.94-2.06-.94-.94-2.06-.94 2.06-2.06.94zm-11 1L8.5 8.5l.94-2.06 2.06-.94-2.06-.94L8.5 2.5l-.94 2.06-2.06.94zm10 10l.94 2.06.94-2.06 2.06-.94-2.06-.94-.94-2.06-.94 2.06-2.06.94z\"/><path d=\"M17.41 7.96l-1.37-1.37c-.4-.4-.92-.59-1.43-.59-.52 0-1.04.2-1.43.59L10.3 9.45l-7.72 7.72c-.78.78-.78 2.05 0 2.83L4 21.41c.39.39.9.59 1.41.59.51 0 1.02-.2 1.41-.59l7.78-7.78 2.81-2.81c.8-.78.8-2.07 0-2.86zM5.41 20L4 18.59l7.72-7.72 1.47 1.35L5.41 20z\"/>\n",
              "  </svg>\n",
              "      </button>\n",
              "      \n",
              "  <style>\n",
              "    .colab-df-container {\n",
              "      display:flex;\n",
              "      flex-wrap:wrap;\n",
              "      gap: 12px;\n",
              "    }\n",
              "\n",
              "    .colab-df-convert {\n",
              "      background-color: #E8F0FE;\n",
              "      border: none;\n",
              "      border-radius: 50%;\n",
              "      cursor: pointer;\n",
              "      display: none;\n",
              "      fill: #1967D2;\n",
              "      height: 32px;\n",
              "      padding: 0 0 0 0;\n",
              "      width: 32px;\n",
              "    }\n",
              "\n",
              "    .colab-df-convert:hover {\n",
              "      background-color: #E2EBFA;\n",
              "      box-shadow: 0px 1px 2px rgba(60, 64, 67, 0.3), 0px 1px 3px 1px rgba(60, 64, 67, 0.15);\n",
              "      fill: #174EA6;\n",
              "    }\n",
              "\n",
              "    [theme=dark] .colab-df-convert {\n",
              "      background-color: #3B4455;\n",
              "      fill: #D2E3FC;\n",
              "    }\n",
              "\n",
              "    [theme=dark] .colab-df-convert:hover {\n",
              "      background-color: #434B5C;\n",
              "      box-shadow: 0px 1px 3px 1px rgba(0, 0, 0, 0.15);\n",
              "      filter: drop-shadow(0px 1px 2px rgba(0, 0, 0, 0.3));\n",
              "      fill: #FFFFFF;\n",
              "    }\n",
              "  </style>\n",
              "\n",
              "      <script>\n",
              "        const buttonEl =\n",
              "          document.querySelector('#df-3dadb199-18dc-46e2-af33-220776c1dbfb button.colab-df-convert');\n",
              "        buttonEl.style.display =\n",
              "          google.colab.kernel.accessAllowed ? 'block' : 'none';\n",
              "\n",
              "        async function convertToInteractive(key) {\n",
              "          const element = document.querySelector('#df-3dadb199-18dc-46e2-af33-220776c1dbfb');\n",
              "          const dataTable =\n",
              "            await google.colab.kernel.invokeFunction('convertToInteractive',\n",
              "                                                     [key], {});\n",
              "          if (!dataTable) return;\n",
              "\n",
              "          const docLinkHtml = 'Like what you see? Visit the ' +\n",
              "            '<a target=\"_blank\" href=https://colab.research.google.com/notebooks/data_table.ipynb>data table notebook</a>'\n",
              "            + ' to learn more about interactive tables.';\n",
              "          element.innerHTML = '';\n",
              "          dataTable['output_type'] = 'display_data';\n",
              "          await google.colab.output.renderOutput(dataTable, element);\n",
              "          const docLink = document.createElement('div');\n",
              "          docLink.innerHTML = docLinkHtml;\n",
              "          element.appendChild(docLink);\n",
              "        }\n",
              "      </script>\n",
              "    </div>\n",
              "  </div>\n",
              "  "
            ]
          },
          "metadata": {},
          "execution_count": 8
        }
      ]
    },
    {
      "cell_type": "markdown",
      "metadata": {
        "id": "Lopwo1ENmRZI"
      },
      "source": [
        "### **Preprocessing : Replacing missing values**\n",
        "\n",
        "The feature 'ca' has missing values that are given as '?'. Let us replace the '?' with nan and then fill those missing values using 'mean' imputation strategy."
      ]
    },
    {
      "cell_type": "code",
      "metadata": {
        "colab": {
          "base_uri": "https://localhost:8080/",
          "height": 488
        },
        "id": "tMrLL5gepBEg",
        "outputId": "72a02986-7614-478d-9477-9e2e8088cc76"
      },
      "source": [
        "heart_data.replace('?',np.nan, inplace=True)\n",
        "imputer = SimpleImputer(missing_values = np.nan, strategy ='mean')\n",
        "imputer = imputer.fit(heart_data)\n",
        "heart_imputed = imputer.transform(heart_data)\n",
        "heart_data_imputed = pd.DataFrame(heart_imputed, columns = cols)\n",
        "heart_data_imputed"
      ],
      "execution_count": null,
      "outputs": [
        {
          "output_type": "execute_result",
          "data": {
            "text/plain": [
              "      age  sex   cp  trestbps   chol  fbs  restecg  thalach  exang  oldpeak  \\\n",
              "0    63.0  1.0  1.0     145.0  233.0  1.0      2.0    150.0    0.0      2.3   \n",
              "1    67.0  1.0  4.0     160.0  286.0  0.0      2.0    108.0    1.0      1.5   \n",
              "2    67.0  1.0  4.0     120.0  229.0  0.0      2.0    129.0    1.0      2.6   \n",
              "3    37.0  1.0  3.0     130.0  250.0  0.0      0.0    187.0    0.0      3.5   \n",
              "4    41.0  0.0  2.0     130.0  204.0  0.0      2.0    172.0    0.0      1.4   \n",
              "..    ...  ...  ...       ...    ...  ...      ...      ...    ...      ...   \n",
              "298  45.0  1.0  1.0     110.0  264.0  0.0      0.0    132.0    0.0      1.2   \n",
              "299  68.0  1.0  4.0     144.0  193.0  1.0      0.0    141.0    0.0      3.4   \n",
              "300  57.0  1.0  4.0     130.0  131.0  0.0      0.0    115.0    1.0      1.2   \n",
              "301  57.0  0.0  2.0     130.0  236.0  0.0      2.0    174.0    0.0      0.0   \n",
              "302  38.0  1.0  3.0     138.0  175.0  0.0      0.0    173.0    0.0      0.0   \n",
              "\n",
              "     slope        ca  thal  num  \n",
              "0      3.0  0.000000   6.0  0.0  \n",
              "1      2.0  3.000000   3.0  1.0  \n",
              "2      2.0  2.000000   7.0  1.0  \n",
              "3      3.0  0.000000   3.0  0.0  \n",
              "4      1.0  0.000000   3.0  0.0  \n",
              "..     ...       ...   ...  ...  \n",
              "298    2.0  0.000000   7.0  1.0  \n",
              "299    2.0  2.000000   7.0  1.0  \n",
              "300    2.0  1.000000   7.0  1.0  \n",
              "301    2.0  1.000000   3.0  1.0  \n",
              "302    1.0  0.672241   3.0  0.0  \n",
              "\n",
              "[303 rows x 14 columns]"
            ],
            "text/html": [
              "\n",
              "  <div id=\"df-7658e19f-5cfe-4fd4-ab54-c9b501305bac\">\n",
              "    <div class=\"colab-df-container\">\n",
              "      <div>\n",
              "<style scoped>\n",
              "    .dataframe tbody tr th:only-of-type {\n",
              "        vertical-align: middle;\n",
              "    }\n",
              "\n",
              "    .dataframe tbody tr th {\n",
              "        vertical-align: top;\n",
              "    }\n",
              "\n",
              "    .dataframe thead th {\n",
              "        text-align: right;\n",
              "    }\n",
              "</style>\n",
              "<table border=\"1\" class=\"dataframe\">\n",
              "  <thead>\n",
              "    <tr style=\"text-align: right;\">\n",
              "      <th></th>\n",
              "      <th>age</th>\n",
              "      <th>sex</th>\n",
              "      <th>cp</th>\n",
              "      <th>trestbps</th>\n",
              "      <th>chol</th>\n",
              "      <th>fbs</th>\n",
              "      <th>restecg</th>\n",
              "      <th>thalach</th>\n",
              "      <th>exang</th>\n",
              "      <th>oldpeak</th>\n",
              "      <th>slope</th>\n",
              "      <th>ca</th>\n",
              "      <th>thal</th>\n",
              "      <th>num</th>\n",
              "    </tr>\n",
              "  </thead>\n",
              "  <tbody>\n",
              "    <tr>\n",
              "      <th>0</th>\n",
              "      <td>63.0</td>\n",
              "      <td>1.0</td>\n",
              "      <td>1.0</td>\n",
              "      <td>145.0</td>\n",
              "      <td>233.0</td>\n",
              "      <td>1.0</td>\n",
              "      <td>2.0</td>\n",
              "      <td>150.0</td>\n",
              "      <td>0.0</td>\n",
              "      <td>2.3</td>\n",
              "      <td>3.0</td>\n",
              "      <td>0.000000</td>\n",
              "      <td>6.0</td>\n",
              "      <td>0.0</td>\n",
              "    </tr>\n",
              "    <tr>\n",
              "      <th>1</th>\n",
              "      <td>67.0</td>\n",
              "      <td>1.0</td>\n",
              "      <td>4.0</td>\n",
              "      <td>160.0</td>\n",
              "      <td>286.0</td>\n",
              "      <td>0.0</td>\n",
              "      <td>2.0</td>\n",
              "      <td>108.0</td>\n",
              "      <td>1.0</td>\n",
              "      <td>1.5</td>\n",
              "      <td>2.0</td>\n",
              "      <td>3.000000</td>\n",
              "      <td>3.0</td>\n",
              "      <td>1.0</td>\n",
              "    </tr>\n",
              "    <tr>\n",
              "      <th>2</th>\n",
              "      <td>67.0</td>\n",
              "      <td>1.0</td>\n",
              "      <td>4.0</td>\n",
              "      <td>120.0</td>\n",
              "      <td>229.0</td>\n",
              "      <td>0.0</td>\n",
              "      <td>2.0</td>\n",
              "      <td>129.0</td>\n",
              "      <td>1.0</td>\n",
              "      <td>2.6</td>\n",
              "      <td>2.0</td>\n",
              "      <td>2.000000</td>\n",
              "      <td>7.0</td>\n",
              "      <td>1.0</td>\n",
              "    </tr>\n",
              "    <tr>\n",
              "      <th>3</th>\n",
              "      <td>37.0</td>\n",
              "      <td>1.0</td>\n",
              "      <td>3.0</td>\n",
              "      <td>130.0</td>\n",
              "      <td>250.0</td>\n",
              "      <td>0.0</td>\n",
              "      <td>0.0</td>\n",
              "      <td>187.0</td>\n",
              "      <td>0.0</td>\n",
              "      <td>3.5</td>\n",
              "      <td>3.0</td>\n",
              "      <td>0.000000</td>\n",
              "      <td>3.0</td>\n",
              "      <td>0.0</td>\n",
              "    </tr>\n",
              "    <tr>\n",
              "      <th>4</th>\n",
              "      <td>41.0</td>\n",
              "      <td>0.0</td>\n",
              "      <td>2.0</td>\n",
              "      <td>130.0</td>\n",
              "      <td>204.0</td>\n",
              "      <td>0.0</td>\n",
              "      <td>2.0</td>\n",
              "      <td>172.0</td>\n",
              "      <td>0.0</td>\n",
              "      <td>1.4</td>\n",
              "      <td>1.0</td>\n",
              "      <td>0.000000</td>\n",
              "      <td>3.0</td>\n",
              "      <td>0.0</td>\n",
              "    </tr>\n",
              "    <tr>\n",
              "      <th>...</th>\n",
              "      <td>...</td>\n",
              "      <td>...</td>\n",
              "      <td>...</td>\n",
              "      <td>...</td>\n",
              "      <td>...</td>\n",
              "      <td>...</td>\n",
              "      <td>...</td>\n",
              "      <td>...</td>\n",
              "      <td>...</td>\n",
              "      <td>...</td>\n",
              "      <td>...</td>\n",
              "      <td>...</td>\n",
              "      <td>...</td>\n",
              "      <td>...</td>\n",
              "    </tr>\n",
              "    <tr>\n",
              "      <th>298</th>\n",
              "      <td>45.0</td>\n",
              "      <td>1.0</td>\n",
              "      <td>1.0</td>\n",
              "      <td>110.0</td>\n",
              "      <td>264.0</td>\n",
              "      <td>0.0</td>\n",
              "      <td>0.0</td>\n",
              "      <td>132.0</td>\n",
              "      <td>0.0</td>\n",
              "      <td>1.2</td>\n",
              "      <td>2.0</td>\n",
              "      <td>0.000000</td>\n",
              "      <td>7.0</td>\n",
              "      <td>1.0</td>\n",
              "    </tr>\n",
              "    <tr>\n",
              "      <th>299</th>\n",
              "      <td>68.0</td>\n",
              "      <td>1.0</td>\n",
              "      <td>4.0</td>\n",
              "      <td>144.0</td>\n",
              "      <td>193.0</td>\n",
              "      <td>1.0</td>\n",
              "      <td>0.0</td>\n",
              "      <td>141.0</td>\n",
              "      <td>0.0</td>\n",
              "      <td>3.4</td>\n",
              "      <td>2.0</td>\n",
              "      <td>2.000000</td>\n",
              "      <td>7.0</td>\n",
              "      <td>1.0</td>\n",
              "    </tr>\n",
              "    <tr>\n",
              "      <th>300</th>\n",
              "      <td>57.0</td>\n",
              "      <td>1.0</td>\n",
              "      <td>4.0</td>\n",
              "      <td>130.0</td>\n",
              "      <td>131.0</td>\n",
              "      <td>0.0</td>\n",
              "      <td>0.0</td>\n",
              "      <td>115.0</td>\n",
              "      <td>1.0</td>\n",
              "      <td>1.2</td>\n",
              "      <td>2.0</td>\n",
              "      <td>1.000000</td>\n",
              "      <td>7.0</td>\n",
              "      <td>1.0</td>\n",
              "    </tr>\n",
              "    <tr>\n",
              "      <th>301</th>\n",
              "      <td>57.0</td>\n",
              "      <td>0.0</td>\n",
              "      <td>2.0</td>\n",
              "      <td>130.0</td>\n",
              "      <td>236.0</td>\n",
              "      <td>0.0</td>\n",
              "      <td>2.0</td>\n",
              "      <td>174.0</td>\n",
              "      <td>0.0</td>\n",
              "      <td>0.0</td>\n",
              "      <td>2.0</td>\n",
              "      <td>1.000000</td>\n",
              "      <td>3.0</td>\n",
              "      <td>1.0</td>\n",
              "    </tr>\n",
              "    <tr>\n",
              "      <th>302</th>\n",
              "      <td>38.0</td>\n",
              "      <td>1.0</td>\n",
              "      <td>3.0</td>\n",
              "      <td>138.0</td>\n",
              "      <td>175.0</td>\n",
              "      <td>0.0</td>\n",
              "      <td>0.0</td>\n",
              "      <td>173.0</td>\n",
              "      <td>0.0</td>\n",
              "      <td>0.0</td>\n",
              "      <td>1.0</td>\n",
              "      <td>0.672241</td>\n",
              "      <td>3.0</td>\n",
              "      <td>0.0</td>\n",
              "    </tr>\n",
              "  </tbody>\n",
              "</table>\n",
              "<p>303 rows × 14 columns</p>\n",
              "</div>\n",
              "      <button class=\"colab-df-convert\" onclick=\"convertToInteractive('df-7658e19f-5cfe-4fd4-ab54-c9b501305bac')\"\n",
              "              title=\"Convert this dataframe to an interactive table.\"\n",
              "              style=\"display:none;\">\n",
              "        \n",
              "  <svg xmlns=\"http://www.w3.org/2000/svg\" height=\"24px\"viewBox=\"0 0 24 24\"\n",
              "       width=\"24px\">\n",
              "    <path d=\"M0 0h24v24H0V0z\" fill=\"none\"/>\n",
              "    <path d=\"M18.56 5.44l.94 2.06.94-2.06 2.06-.94-2.06-.94-.94-2.06-.94 2.06-2.06.94zm-11 1L8.5 8.5l.94-2.06 2.06-.94-2.06-.94L8.5 2.5l-.94 2.06-2.06.94zm10 10l.94 2.06.94-2.06 2.06-.94-2.06-.94-.94-2.06-.94 2.06-2.06.94z\"/><path d=\"M17.41 7.96l-1.37-1.37c-.4-.4-.92-.59-1.43-.59-.52 0-1.04.2-1.43.59L10.3 9.45l-7.72 7.72c-.78.78-.78 2.05 0 2.83L4 21.41c.39.39.9.59 1.41.59.51 0 1.02-.2 1.41-.59l7.78-7.78 2.81-2.81c.8-.78.8-2.07 0-2.86zM5.41 20L4 18.59l7.72-7.72 1.47 1.35L5.41 20z\"/>\n",
              "  </svg>\n",
              "      </button>\n",
              "      \n",
              "  <style>\n",
              "    .colab-df-container {\n",
              "      display:flex;\n",
              "      flex-wrap:wrap;\n",
              "      gap: 12px;\n",
              "    }\n",
              "\n",
              "    .colab-df-convert {\n",
              "      background-color: #E8F0FE;\n",
              "      border: none;\n",
              "      border-radius: 50%;\n",
              "      cursor: pointer;\n",
              "      display: none;\n",
              "      fill: #1967D2;\n",
              "      height: 32px;\n",
              "      padding: 0 0 0 0;\n",
              "      width: 32px;\n",
              "    }\n",
              "\n",
              "    .colab-df-convert:hover {\n",
              "      background-color: #E2EBFA;\n",
              "      box-shadow: 0px 1px 2px rgba(60, 64, 67, 0.3), 0px 1px 3px 1px rgba(60, 64, 67, 0.15);\n",
              "      fill: #174EA6;\n",
              "    }\n",
              "\n",
              "    [theme=dark] .colab-df-convert {\n",
              "      background-color: #3B4455;\n",
              "      fill: #D2E3FC;\n",
              "    }\n",
              "\n",
              "    [theme=dark] .colab-df-convert:hover {\n",
              "      background-color: #434B5C;\n",
              "      box-shadow: 0px 1px 3px 1px rgba(0, 0, 0, 0.15);\n",
              "      filter: drop-shadow(0px 1px 2px rgba(0, 0, 0, 0.3));\n",
              "      fill: #FFFFFF;\n",
              "    }\n",
              "  </style>\n",
              "\n",
              "      <script>\n",
              "        const buttonEl =\n",
              "          document.querySelector('#df-7658e19f-5cfe-4fd4-ab54-c9b501305bac button.colab-df-convert');\n",
              "        buttonEl.style.display =\n",
              "          google.colab.kernel.accessAllowed ? 'block' : 'none';\n",
              "\n",
              "        async function convertToInteractive(key) {\n",
              "          const element = document.querySelector('#df-7658e19f-5cfe-4fd4-ab54-c9b501305bac');\n",
              "          const dataTable =\n",
              "            await google.colab.kernel.invokeFunction('convertToInteractive',\n",
              "                                                     [key], {});\n",
              "          if (!dataTable) return;\n",
              "\n",
              "          const docLinkHtml = 'Like what you see? Visit the ' +\n",
              "            '<a target=\"_blank\" href=https://colab.research.google.com/notebooks/data_table.ipynb>data table notebook</a>'\n",
              "            + ' to learn more about interactive tables.';\n",
              "          element.innerHTML = '';\n",
              "          dataTable['output_type'] = 'display_data';\n",
              "          await google.colab.output.renderOutput(dataTable, element);\n",
              "          const docLink = document.createElement('div');\n",
              "          docLink.innerHTML = docLinkHtml;\n",
              "          element.appendChild(docLink);\n",
              "        }\n",
              "      </script>\n",
              "    </div>\n",
              "  </div>\n",
              "  "
            ]
          },
          "metadata": {},
          "execution_count": 9
        }
      ]
    },
    {
      "cell_type": "markdown",
      "metadata": {
        "id": "Fb7KF5SxtqEY"
      },
      "source": [
        "Let us first separate the input attributes and target attribute."
      ]
    },
    {
      "cell_type": "code",
      "metadata": {
        "colab": {
          "base_uri": "https://localhost:8080/"
        },
        "id": "2UwJQCLtthCP",
        "outputId": "05028fdb-9c71-4775-d639-f5ac0b7c32e7"
      },
      "source": [
        "# Assign a new variable y as target\n",
        "\n",
        "y = heart_data_imputed['num']\n",
        "y = np.array(y)\n",
        "y"
      ],
      "execution_count": null,
      "outputs": [
        {
          "output_type": "execute_result",
          "data": {
            "text/plain": [
              "array([0., 1., 1., 0., 0., 0., 1., 0., 1., 1., 0., 0., 1., 0., 0., 0., 1.,\n",
              "       0., 0., 0., 0., 0., 1., 1., 1., 0., 0., 0., 0., 1., 0., 1., 1., 0.,\n",
              "       0., 0., 1., 1., 1., 0., 1., 0., 0., 0., 1., 1., 0., 1., 0., 0., 0.,\n",
              "       0., 1., 0., 1., 1., 1., 1., 0., 0., 1., 0., 1., 0., 1., 1., 1., 0.,\n",
              "       1., 1., 0., 1., 1., 1., 1., 0., 1., 0., 0., 1., 0., 0., 0., 1., 0.,\n",
              "       0., 0., 0., 0., 0., 0., 1., 0., 0., 0., 1., 1., 1., 0., 0., 0., 0.,\n",
              "       0., 0., 1., 0., 1., 1., 1., 1., 1., 1., 0., 1., 1., 0., 0., 0., 1.,\n",
              "       1., 1., 1., 0., 1., 1., 0., 1., 1., 0., 0., 0., 0., 0., 0., 0., 0.,\n",
              "       1., 1., 1., 0., 0., 1., 0., 1., 0., 1., 1., 0., 0., 0., 0., 0., 0.,\n",
              "       1., 1., 1., 1., 1., 1., 0., 0., 1., 0., 0., 0., 0., 0., 0., 1., 0.,\n",
              "       1., 0., 1., 0., 1., 1., 0., 1., 0., 0., 1., 1., 0., 0., 1., 0., 0.,\n",
              "       1., 1., 1., 0., 1., 1., 1., 0., 1., 0., 0., 0., 1., 0., 0., 0., 0.,\n",
              "       0., 1., 1., 1., 0., 1., 0., 1., 0., 1., 1., 0., 0., 0., 0., 0., 0.,\n",
              "       0., 0., 1., 1., 0., 0., 0., 1., 1., 0., 1., 1., 0., 0., 1., 1., 1.,\n",
              "       0., 0., 0., 0., 0., 1., 0., 1., 1., 1., 1., 0., 0., 1., 0., 0., 0.,\n",
              "       0., 0., 0., 0., 1., 0., 1., 0., 0., 1., 1., 1., 1., 1., 0., 1., 0.,\n",
              "       1., 0., 1., 0., 0., 0., 1., 0., 1., 0., 1., 0., 1., 1., 1., 0., 0.,\n",
              "       0., 1., 0., 1., 1., 1., 0., 1., 1., 1., 1., 1., 1., 0.])"
            ]
          },
          "metadata": {},
          "execution_count": 10
        }
      ]
    },
    {
      "cell_type": "code",
      "metadata": {
        "id": "3-zB48fzwNqB"
      },
      "source": [
        "# Remove the target variable from heart_data\n",
        "\n",
        "del heart_data_imputed['num']"
      ],
      "execution_count": null,
      "outputs": []
    },
    {
      "cell_type": "code",
      "metadata": {
        "colab": {
          "base_uri": "https://localhost:8080/",
          "height": 364
        },
        "id": "pa4J7VSTyMO9",
        "outputId": "7b1f6124-dd0b-49a5-b2f7-6303a6e4bf1d"
      },
      "source": [
        "heart_data_imputed.describe()"
      ],
      "execution_count": null,
      "outputs": [
        {
          "output_type": "execute_result",
          "data": {
            "text/plain": [
              "              age         sex          cp    trestbps        chol         fbs  \\\n",
              "count  303.000000  303.000000  303.000000  303.000000  303.000000  303.000000   \n",
              "mean    54.438944    0.679868    3.158416  131.689769  246.693069    0.148515   \n",
              "std      9.038662    0.467299    0.960126   17.599748   51.776918    0.356198   \n",
              "min     29.000000    0.000000    1.000000   94.000000  126.000000    0.000000   \n",
              "25%     48.000000    0.000000    3.000000  120.000000  211.000000    0.000000   \n",
              "50%     56.000000    1.000000    3.000000  130.000000  241.000000    0.000000   \n",
              "75%     61.000000    1.000000    4.000000  140.000000  275.000000    0.000000   \n",
              "max     77.000000    1.000000    4.000000  200.000000  564.000000    1.000000   \n",
              "\n",
              "          restecg     thalach       exang     oldpeak       slope          ca  \\\n",
              "count  303.000000  303.000000  303.000000  303.000000  303.000000  303.000000   \n",
              "mean     0.990099  149.607261    0.326733    1.039604    1.600660    0.672241   \n",
              "std      0.994971   22.875003    0.469794    1.161075    0.616226    0.931209   \n",
              "min      0.000000   71.000000    0.000000    0.000000    1.000000    0.000000   \n",
              "25%      0.000000  133.500000    0.000000    0.000000    1.000000    0.000000   \n",
              "50%      1.000000  153.000000    0.000000    0.800000    2.000000    0.000000   \n",
              "75%      2.000000  166.000000    1.000000    1.600000    2.000000    1.000000   \n",
              "max      2.000000  202.000000    1.000000    6.200000    3.000000    3.000000   \n",
              "\n",
              "             thal  \n",
              "count  303.000000  \n",
              "mean     4.734219  \n",
              "std      1.933272  \n",
              "min      3.000000  \n",
              "25%      3.000000  \n",
              "50%      3.000000  \n",
              "75%      7.000000  \n",
              "max      7.000000  "
            ],
            "text/html": [
              "\n",
              "  <div id=\"df-b6e6dee0-6d1a-4846-8006-649164e67b9b\">\n",
              "    <div class=\"colab-df-container\">\n",
              "      <div>\n",
              "<style scoped>\n",
              "    .dataframe tbody tr th:only-of-type {\n",
              "        vertical-align: middle;\n",
              "    }\n",
              "\n",
              "    .dataframe tbody tr th {\n",
              "        vertical-align: top;\n",
              "    }\n",
              "\n",
              "    .dataframe thead th {\n",
              "        text-align: right;\n",
              "    }\n",
              "</style>\n",
              "<table border=\"1\" class=\"dataframe\">\n",
              "  <thead>\n",
              "    <tr style=\"text-align: right;\">\n",
              "      <th></th>\n",
              "      <th>age</th>\n",
              "      <th>sex</th>\n",
              "      <th>cp</th>\n",
              "      <th>trestbps</th>\n",
              "      <th>chol</th>\n",
              "      <th>fbs</th>\n",
              "      <th>restecg</th>\n",
              "      <th>thalach</th>\n",
              "      <th>exang</th>\n",
              "      <th>oldpeak</th>\n",
              "      <th>slope</th>\n",
              "      <th>ca</th>\n",
              "      <th>thal</th>\n",
              "    </tr>\n",
              "  </thead>\n",
              "  <tbody>\n",
              "    <tr>\n",
              "      <th>count</th>\n",
              "      <td>303.000000</td>\n",
              "      <td>303.000000</td>\n",
              "      <td>303.000000</td>\n",
              "      <td>303.000000</td>\n",
              "      <td>303.000000</td>\n",
              "      <td>303.000000</td>\n",
              "      <td>303.000000</td>\n",
              "      <td>303.000000</td>\n",
              "      <td>303.000000</td>\n",
              "      <td>303.000000</td>\n",
              "      <td>303.000000</td>\n",
              "      <td>303.000000</td>\n",
              "      <td>303.000000</td>\n",
              "    </tr>\n",
              "    <tr>\n",
              "      <th>mean</th>\n",
              "      <td>54.438944</td>\n",
              "      <td>0.679868</td>\n",
              "      <td>3.158416</td>\n",
              "      <td>131.689769</td>\n",
              "      <td>246.693069</td>\n",
              "      <td>0.148515</td>\n",
              "      <td>0.990099</td>\n",
              "      <td>149.607261</td>\n",
              "      <td>0.326733</td>\n",
              "      <td>1.039604</td>\n",
              "      <td>1.600660</td>\n",
              "      <td>0.672241</td>\n",
              "      <td>4.734219</td>\n",
              "    </tr>\n",
              "    <tr>\n",
              "      <th>std</th>\n",
              "      <td>9.038662</td>\n",
              "      <td>0.467299</td>\n",
              "      <td>0.960126</td>\n",
              "      <td>17.599748</td>\n",
              "      <td>51.776918</td>\n",
              "      <td>0.356198</td>\n",
              "      <td>0.994971</td>\n",
              "      <td>22.875003</td>\n",
              "      <td>0.469794</td>\n",
              "      <td>1.161075</td>\n",
              "      <td>0.616226</td>\n",
              "      <td>0.931209</td>\n",
              "      <td>1.933272</td>\n",
              "    </tr>\n",
              "    <tr>\n",
              "      <th>min</th>\n",
              "      <td>29.000000</td>\n",
              "      <td>0.000000</td>\n",
              "      <td>1.000000</td>\n",
              "      <td>94.000000</td>\n",
              "      <td>126.000000</td>\n",
              "      <td>0.000000</td>\n",
              "      <td>0.000000</td>\n",
              "      <td>71.000000</td>\n",
              "      <td>0.000000</td>\n",
              "      <td>0.000000</td>\n",
              "      <td>1.000000</td>\n",
              "      <td>0.000000</td>\n",
              "      <td>3.000000</td>\n",
              "    </tr>\n",
              "    <tr>\n",
              "      <th>25%</th>\n",
              "      <td>48.000000</td>\n",
              "      <td>0.000000</td>\n",
              "      <td>3.000000</td>\n",
              "      <td>120.000000</td>\n",
              "      <td>211.000000</td>\n",
              "      <td>0.000000</td>\n",
              "      <td>0.000000</td>\n",
              "      <td>133.500000</td>\n",
              "      <td>0.000000</td>\n",
              "      <td>0.000000</td>\n",
              "      <td>1.000000</td>\n",
              "      <td>0.000000</td>\n",
              "      <td>3.000000</td>\n",
              "    </tr>\n",
              "    <tr>\n",
              "      <th>50%</th>\n",
              "      <td>56.000000</td>\n",
              "      <td>1.000000</td>\n",
              "      <td>3.000000</td>\n",
              "      <td>130.000000</td>\n",
              "      <td>241.000000</td>\n",
              "      <td>0.000000</td>\n",
              "      <td>1.000000</td>\n",
              "      <td>153.000000</td>\n",
              "      <td>0.000000</td>\n",
              "      <td>0.800000</td>\n",
              "      <td>2.000000</td>\n",
              "      <td>0.000000</td>\n",
              "      <td>3.000000</td>\n",
              "    </tr>\n",
              "    <tr>\n",
              "      <th>75%</th>\n",
              "      <td>61.000000</td>\n",
              "      <td>1.000000</td>\n",
              "      <td>4.000000</td>\n",
              "      <td>140.000000</td>\n",
              "      <td>275.000000</td>\n",
              "      <td>0.000000</td>\n",
              "      <td>2.000000</td>\n",
              "      <td>166.000000</td>\n",
              "      <td>1.000000</td>\n",
              "      <td>1.600000</td>\n",
              "      <td>2.000000</td>\n",
              "      <td>1.000000</td>\n",
              "      <td>7.000000</td>\n",
              "    </tr>\n",
              "    <tr>\n",
              "      <th>max</th>\n",
              "      <td>77.000000</td>\n",
              "      <td>1.000000</td>\n",
              "      <td>4.000000</td>\n",
              "      <td>200.000000</td>\n",
              "      <td>564.000000</td>\n",
              "      <td>1.000000</td>\n",
              "      <td>2.000000</td>\n",
              "      <td>202.000000</td>\n",
              "      <td>1.000000</td>\n",
              "      <td>6.200000</td>\n",
              "      <td>3.000000</td>\n",
              "      <td>3.000000</td>\n",
              "      <td>7.000000</td>\n",
              "    </tr>\n",
              "  </tbody>\n",
              "</table>\n",
              "</div>\n",
              "      <button class=\"colab-df-convert\" onclick=\"convertToInteractive('df-b6e6dee0-6d1a-4846-8006-649164e67b9b')\"\n",
              "              title=\"Convert this dataframe to an interactive table.\"\n",
              "              style=\"display:none;\">\n",
              "        \n",
              "  <svg xmlns=\"http://www.w3.org/2000/svg\" height=\"24px\"viewBox=\"0 0 24 24\"\n",
              "       width=\"24px\">\n",
              "    <path d=\"M0 0h24v24H0V0z\" fill=\"none\"/>\n",
              "    <path d=\"M18.56 5.44l.94 2.06.94-2.06 2.06-.94-2.06-.94-.94-2.06-.94 2.06-2.06.94zm-11 1L8.5 8.5l.94-2.06 2.06-.94-2.06-.94L8.5 2.5l-.94 2.06-2.06.94zm10 10l.94 2.06.94-2.06 2.06-.94-2.06-.94-.94-2.06-.94 2.06-2.06.94z\"/><path d=\"M17.41 7.96l-1.37-1.37c-.4-.4-.92-.59-1.43-.59-.52 0-1.04.2-1.43.59L10.3 9.45l-7.72 7.72c-.78.78-.78 2.05 0 2.83L4 21.41c.39.39.9.59 1.41.59.51 0 1.02-.2 1.41-.59l7.78-7.78 2.81-2.81c.8-.78.8-2.07 0-2.86zM5.41 20L4 18.59l7.72-7.72 1.47 1.35L5.41 20z\"/>\n",
              "  </svg>\n",
              "      </button>\n",
              "      \n",
              "  <style>\n",
              "    .colab-df-container {\n",
              "      display:flex;\n",
              "      flex-wrap:wrap;\n",
              "      gap: 12px;\n",
              "    }\n",
              "\n",
              "    .colab-df-convert {\n",
              "      background-color: #E8F0FE;\n",
              "      border: none;\n",
              "      border-radius: 50%;\n",
              "      cursor: pointer;\n",
              "      display: none;\n",
              "      fill: #1967D2;\n",
              "      height: 32px;\n",
              "      padding: 0 0 0 0;\n",
              "      width: 32px;\n",
              "    }\n",
              "\n",
              "    .colab-df-convert:hover {\n",
              "      background-color: #E2EBFA;\n",
              "      box-shadow: 0px 1px 2px rgba(60, 64, 67, 0.3), 0px 1px 3px 1px rgba(60, 64, 67, 0.15);\n",
              "      fill: #174EA6;\n",
              "    }\n",
              "\n",
              "    [theme=dark] .colab-df-convert {\n",
              "      background-color: #3B4455;\n",
              "      fill: #D2E3FC;\n",
              "    }\n",
              "\n",
              "    [theme=dark] .colab-df-convert:hover {\n",
              "      background-color: #434B5C;\n",
              "      box-shadow: 0px 1px 3px 1px rgba(0, 0, 0, 0.15);\n",
              "      filter: drop-shadow(0px 1px 2px rgba(0, 0, 0, 0.3));\n",
              "      fill: #FFFFFF;\n",
              "    }\n",
              "  </style>\n",
              "\n",
              "      <script>\n",
              "        const buttonEl =\n",
              "          document.querySelector('#df-b6e6dee0-6d1a-4846-8006-649164e67b9b button.colab-df-convert');\n",
              "        buttonEl.style.display =\n",
              "          google.colab.kernel.accessAllowed ? 'block' : 'none';\n",
              "\n",
              "        async function convertToInteractive(key) {\n",
              "          const element = document.querySelector('#df-b6e6dee0-6d1a-4846-8006-649164e67b9b');\n",
              "          const dataTable =\n",
              "            await google.colab.kernel.invokeFunction('convertToInteractive',\n",
              "                                                     [key], {});\n",
              "          if (!dataTable) return;\n",
              "\n",
              "          const docLinkHtml = 'Like what you see? Visit the ' +\n",
              "            '<a target=\"_blank\" href=https://colab.research.google.com/notebooks/data_table.ipynb>data table notebook</a>'\n",
              "            + ' to learn more about interactive tables.';\n",
              "          element.innerHTML = '';\n",
              "          dataTable['output_type'] = 'display_data';\n",
              "          await google.colab.output.renderOutput(dataTable, element);\n",
              "          const docLink = document.createElement('div');\n",
              "          docLink.innerHTML = docLinkHtml;\n",
              "          element.appendChild(docLink);\n",
              "        }\n",
              "      </script>\n",
              "    </div>\n",
              "  </div>\n",
              "  "
            ]
          },
          "metadata": {},
          "execution_count": 12
        }
      ]
    },
    {
      "cell_type": "markdown",
      "metadata": {
        "id": "rqx154ekxyvy"
      },
      "source": [
        "### **Understanding the correlation between Input features**"
      ]
    },
    {
      "cell_type": "code",
      "metadata": {
        "colab": {
          "base_uri": "https://localhost:8080/",
          "height": 660
        },
        "id": "tOcwo-AgRVdJ",
        "outputId": "d7e13482-51df-4190-f34a-c68cdabac7fa"
      },
      "source": [
        "plt.figure(figsize=[15,15])\n",
        "sns.heatmap(heart_data_imputed.corr(),annot = True, square = True)\n",
        "plt.show()"
      ],
      "execution_count": null,
      "outputs": [
        {
          "output_type": "display_data",
          "data": {
            "text/plain": [
              "<Figure size 1080x1080 with 2 Axes>"
            ],
            "image/png": "[encoded data removed]"
          },
          "metadata": {
            "needs_background": "light"
          }
        }
      ]
    },
    {
      "cell_type": "markdown",
      "metadata": {
        "id": "w68b7F39tVsC"
      },
      "source": [
        "# **Train and Test data split**"
      ]
    },
    {
      "cell_type": "code",
      "metadata": {
        "id": "B8X64iVHL54e",
        "colab": {
          "base_uri": "https://localhost:8080/"
        },
        "outputId": "297d8583-4221-43b1-cef0-31564e5822b3"
      },
      "source": [
        "# Let us split the data for training and testing\n",
        "\n",
        "from sklearn.model_selection import train_test_split\n",
        "X_train, X_test, y_train, y_test = train_test_split(heart_data_imputed, y, test_size = 0.25, random_state = 0)\n",
        "\n",
        "print('Shape of training data',X_train.shape)\n",
        "print('Shape of training labels', y_train.shape)\n",
        "print('Shape of testing data', X_test.shape)\n",
        "print('Shape of testing labels',y_test.shape)"
      ],
      "execution_count": null,
      "outputs": [
        {
          "output_type": "stream",
          "name": "stdout",
          "text": [
            "Shape of training data (227, 13)\n",
            "Shape of training labels (227,)\n",
            "Shape of testing data (76, 13)\n",
            "Shape of testing labels (76,)\n"
          ]
        }
      ]
    },
    {
      "cell_type": "code",
      "metadata": {
        "colab": {
          "base_uri": "https://localhost:8080/",
          "height": 488
        },
        "id": "ASq8iCVH1EYj",
        "outputId": "1d6fb02c-d765-4465-c22b-2aeb2e616ffd"
      },
      "source": [
        "X_train"
      ],
      "execution_count": null,
      "outputs": [
        {
          "output_type": "execute_result",
          "data": {
            "text/plain": [
              "      age  sex   cp  trestbps   chol  fbs  restecg  thalach  exang  oldpeak  \\\n",
              "173  62.0  0.0  4.0     140.0  394.0  0.0      2.0    157.0    0.0      1.2   \n",
              "261  58.0  0.0  2.0     136.0  319.0  1.0      2.0    152.0    0.0      0.0   \n",
              "37   57.0  1.0  4.0     150.0  276.0  0.0      2.0    112.0    1.0      0.6   \n",
              "101  34.0  1.0  1.0     118.0  182.0  0.0      2.0    174.0    0.0      0.0   \n",
              "166  52.0  1.0  3.0     138.0  223.0  0.0      0.0    169.0    0.0      0.0   \n",
              "..    ...  ...  ...       ...    ...  ...      ...      ...    ...      ...   \n",
              "251  58.0  1.0  4.0     146.0  218.0  0.0      0.0    105.0    0.0      2.0   \n",
              "192  43.0  1.0  4.0     132.0  247.0  1.0      2.0    143.0    1.0      0.1   \n",
              "117  35.0  0.0  4.0     138.0  183.0  0.0      0.0    182.0    0.0      1.4   \n",
              "47   50.0  1.0  4.0     150.0  243.0  0.0      2.0    128.0    0.0      2.6   \n",
              "172  59.0  0.0  4.0     174.0  249.0  0.0      0.0    143.0    1.0      0.0   \n",
              "\n",
              "     slope        ca  thal  \n",
              "173    2.0  0.000000   3.0  \n",
              "261    1.0  2.000000   3.0  \n",
              "37     2.0  1.000000   6.0  \n",
              "101    1.0  0.000000   3.0  \n",
              "166    1.0  0.672241   3.0  \n",
              "..     ...       ...   ...  \n",
              "251    2.0  1.000000   7.0  \n",
              "192    2.0  0.672241   7.0  \n",
              "117    1.0  0.000000   3.0  \n",
              "47     2.0  0.000000   7.0  \n",
              "172    2.0  0.000000   3.0  \n",
              "\n",
              "[227 rows x 13 columns]"
            ],
            "text/html": [
              "\n",
              "  <div id=\"df-7842dda5-d239-45e2-ba2b-0a68eabd2469\">\n",
              "    <div class=\"colab-df-container\">\n",
              "      <div>\n",
              "<style scoped>\n",
              "    .dataframe tbody tr th:only-of-type {\n",
              "        vertical-align: middle;\n",
              "    }\n",
              "\n",
              "    .dataframe tbody tr th {\n",
              "        vertical-align: top;\n",
              "    }\n",
              "\n",
              "    .dataframe thead th {\n",
              "        text-align: right;\n",
              "    }\n",
              "</style>\n",
              "<table border=\"1\" class=\"dataframe\">\n",
              "  <thead>\n",
              "    <tr style=\"text-align: right;\">\n",
              "      <th></th>\n",
              "      <th>age</th>\n",
              "      <th>sex</th>\n",
              "      <th>cp</th>\n",
              "      <th>trestbps</th>\n",
              "      <th>chol</th>\n",
              "      <th>fbs</th>\n",
              "      <th>restecg</th>\n",
              "      <th>thalach</th>\n",
              "      <th>exang</th>\n",
              "      <th>oldpeak</th>\n",
              "      <th>slope</th>\n",
              "      <th>ca</th>\n",
              "      <th>thal</th>\n",
              "    </tr>\n",
              "  </thead>\n",
              "  <tbody>\n",
              "    <tr>\n",
              "      <th>173</th>\n",
              "      <td>62.0</td>\n",
              "      <td>0.0</td>\n",
              "      <td>4.0</td>\n",
              "      <td>140.0</td>\n",
              "      <td>394.0</td>\n",
              "      <td>0.0</td>\n",
              "      <td>2.0</td>\n",
              "      <td>157.0</td>\n",
              "      <td>0.0</td>\n",
              "      <td>1.2</td>\n",
              "      <td>2.0</td>\n",
              "      <td>0.000000</td>\n",
              "      <td>3.0</td>\n",
              "    </tr>\n",
              "    <tr>\n",
              "      <th>261</th>\n",
              "      <td>58.0</td>\n",
              "      <td>0.0</td>\n",
              "      <td>2.0</td>\n",
              "      <td>136.0</td>\n",
              "      <td>319.0</td>\n",
              "      <td>1.0</td>\n",
              "      <td>2.0</td>\n",
              "      <td>152.0</td>\n",
              "      <td>0.0</td>\n",
              "      <td>0.0</td>\n",
              "      <td>1.0</td>\n",
              "      <td>2.000000</td>\n",
              "      <td>3.0</td>\n",
              "    </tr>\n",
              "    <tr>\n",
              "      <th>37</th>\n",
              "      <td>57.0</td>\n",
              "      <td>1.0</td>\n",
              "      <td>4.0</td>\n",
              "      <td>150.0</td>\n",
              "      <td>276.0</td>\n",
              "      <td>0.0</td>\n",
              "      <td>2.0</td>\n",
              "      <td>112.0</td>\n",
              "      <td>1.0</td>\n",
              "      <td>0.6</td>\n",
              "      <td>2.0</td>\n",
              "      <td>1.000000</td>\n",
              "      <td>6.0</td>\n",
              "    </tr>\n",
              "    <tr>\n",
              "      <th>101</th>\n",
              "      <td>34.0</td>\n",
              "      <td>1.0</td>\n",
              "      <td>1.0</td>\n",
              "      <td>118.0</td>\n",
              "      <td>182.0</td>\n",
              "      <td>0.0</td>\n",
              "      <td>2.0</td>\n",
              "      <td>174.0</td>\n",
              "      <td>0.0</td>\n",
              "      <td>0.0</td>\n",
              "      <td>1.0</td>\n",
              "      <td>0.000000</td>\n",
              "      <td>3.0</td>\n",
              "    </tr>\n",
              "    <tr>\n",
              "      <th>166</th>\n",
              "      <td>52.0</td>\n",
              "      <td>1.0</td>\n",
              "      <td>3.0</td>\n",
              "      <td>138.0</td>\n",
              "      <td>223.0</td>\n",
              "      <td>0.0</td>\n",
              "      <td>0.0</td>\n",
              "      <td>169.0</td>\n",
              "      <td>0.0</td>\n",
              "      <td>0.0</td>\n",
              "      <td>1.0</td>\n",
              "      <td>0.672241</td>\n",
              "      <td>3.0</td>\n",
              "    </tr>\n",
              "    <tr>\n",
              "      <th>...</th>\n",
              "      <td>...</td>\n",
              "      <td>...</td>\n",
              "      <td>...</td>\n",
              "      <td>...</td>\n",
              "      <td>...</td>\n",
              "      <td>...</td>\n",
              "      <td>...</td>\n",
              "      <td>...</td>\n",
              "      <td>...</td>\n",
              "      <td>...</td>\n",
              "      <td>...</td>\n",
              "      <td>...</td>\n",
              "      <td>...</td>\n",
              "    </tr>\n",
              "    <tr>\n",
              "      <th>251</th>\n",
              "      <td>58.0</td>\n",
              "      <td>1.0</td>\n",
              "      <td>4.0</td>\n",
              "      <td>146.0</td>\n",
              "      <td>218.0</td>\n",
              "      <td>0.0</td>\n",
              "      <td>0.0</td>\n",
              "      <td>105.0</td>\n",
              "      <td>0.0</td>\n",
              "      <td>2.0</td>\n",
              "      <td>2.0</td>\n",
              "      <td>1.000000</td>\n",
              "      <td>7.0</td>\n",
              "    </tr>\n",
              "    <tr>\n",
              "      <th>192</th>\n",
              "      <td>43.0</td>\n",
              "      <td>1.0</td>\n",
              "      <td>4.0</td>\n",
              "      <td>132.0</td>\n",
              "      <td>247.0</td>\n",
              "      <td>1.0</td>\n",
              "      <td>2.0</td>\n",
              "      <td>143.0</td>\n",
              "      <td>1.0</td>\n",
              "      <td>0.1</td>\n",
              "      <td>2.0</td>\n",
              "      <td>0.672241</td>\n",
              "      <td>7.0</td>\n",
              "    </tr>\n",
              "    <tr>\n",
              "      <th>117</th>\n",
              "      <td>35.0</td>\n",
              "      <td>0.0</td>\n",
              "      <td>4.0</td>\n",
              "      <td>138.0</td>\n",
              "      <td>183.0</td>\n",
              "      <td>0.0</td>\n",
              "      <td>0.0</td>\n",
              "      <td>182.0</td>\n",
              "      <td>0.0</td>\n",
              "      <td>1.4</td>\n",
              "      <td>1.0</td>\n",
              "      <td>0.000000</td>\n",
              "      <td>3.0</td>\n",
              "    </tr>\n",
              "    <tr>\n",
              "      <th>47</th>\n",
              "      <td>50.0</td>\n",
              "      <td>1.0</td>\n",
              "      <td>4.0</td>\n",
              "      <td>150.0</td>\n",
              "      <td>243.0</td>\n",
              "      <td>0.0</td>\n",
              "      <td>2.0</td>\n",
              "      <td>128.0</td>\n",
              "      <td>0.0</td>\n",
              "      <td>2.6</td>\n",
              "      <td>2.0</td>\n",
              "      <td>0.000000</td>\n",
              "      <td>7.0</td>\n",
              "    </tr>\n",
              "    <tr>\n",
              "      <th>172</th>\n",
              "      <td>59.0</td>\n",
              "      <td>0.0</td>\n",
              "      <td>4.0</td>\n",
              "      <td>174.0</td>\n",
              "      <td>249.0</td>\n",
              "      <td>0.0</td>\n",
              "      <td>0.0</td>\n",
              "      <td>143.0</td>\n",
              "      <td>1.0</td>\n",
              "      <td>0.0</td>\n",
              "      <td>2.0</td>\n",
              "      <td>0.000000</td>\n",
              "      <td>3.0</td>\n",
              "    </tr>\n",
              "  </tbody>\n",
              "</table>\n",
              "<p>227 rows × 13 columns</p>\n",
              "</div>\n",
              "      <button class=\"colab-df-convert\" onclick=\"convertToInteractive('df-7842dda5-d239-45e2-ba2b-0a68eabd2469')\"\n",
              "              title=\"Convert this dataframe to an interactive table.\"\n",
              "              style=\"display:none;\">\n",
              "        \n",
              "  <svg xmlns=\"http://www.w3.org/2000/svg\" height=\"24px\"viewBox=\"0 0 24 24\"\n",
              "       width=\"24px\">\n",
              "    <path d=\"M0 0h24v24H0V0z\" fill=\"none\"/>\n",
              "    <path d=\"M18.56 5.44l.94 2.06.94-2.06 2.06-.94-2.06-.94-.94-2.06-.94 2.06-2.06.94zm-11 1L8.5 8.5l.94-2.06 2.06-.94-2.06-.94L8.5 2.5l-.94 2.06-2.06.94zm10 10l.94 2.06.94-2.06 2.06-.94-2.06-.94-.94-2.06-.94 2.06-2.06.94z\"/><path d=\"M17.41 7.96l-1.37-1.37c-.4-.4-.92-.59-1.43-.59-.52 0-1.04.2-1.43.59L10.3 9.45l-7.72 7.72c-.78.78-.78 2.05 0 2.83L4 21.41c.39.39.9.59 1.41.59.51 0 1.02-.2 1.41-.59l7.78-7.78 2.81-2.81c.8-.78.8-2.07 0-2.86zM5.41 20L4 18.59l7.72-7.72 1.47 1.35L5.41 20z\"/>\n",
              "  </svg>\n",
              "      </button>\n",
              "      \n",
              "  <style>\n",
              "    .colab-df-container {\n",
              "      display:flex;\n",
              "      flex-wrap:wrap;\n",
              "      gap: 12px;\n",
              "    }\n",
              "\n",
              "    .colab-df-convert {\n",
              "      background-color: #E8F0FE;\n",
              "      border: none;\n",
              "      border-radius: 50%;\n",
              "      cursor: pointer;\n",
              "      display: none;\n",
              "      fill: #1967D2;\n",
              "      height: 32px;\n",
              "      padding: 0 0 0 0;\n",
              "      width: 32px;\n",
              "    }\n",
              "\n",
              "    .colab-df-convert:hover {\n",
              "      background-color: #E2EBFA;\n",
              "      box-shadow: 0px 1px 2px rgba(60, 64, 67, 0.3), 0px 1px 3px 1px rgba(60, 64, 67, 0.15);\n",
              "      fill: #174EA6;\n",
              "    }\n",
              "\n",
              "    [theme=dark] .colab-df-convert {\n",
              "      background-color: #3B4455;\n",
              "      fill: #D2E3FC;\n",
              "    }\n",
              "\n",
              "    [theme=dark] .colab-df-convert:hover {\n",
              "      background-color: #434B5C;\n",
              "      box-shadow: 0px 1px 3px 1px rgba(0, 0, 0, 0.15);\n",
              "      filter: drop-shadow(0px 1px 2px rgba(0, 0, 0, 0.3));\n",
              "      fill: #FFFFFF;\n",
              "    }\n",
              "  </style>\n",
              "\n",
              "      <script>\n",
              "        const buttonEl =\n",
              "          document.querySelector('#df-7842dda5-d239-45e2-ba2b-0a68eabd2469 button.colab-df-convert');\n",
              "        buttonEl.style.display =\n",
              "          google.colab.kernel.accessAllowed ? 'block' : 'none';\n",
              "\n",
              "        async function convertToInteractive(key) {\n",
              "          const element = document.querySelector('#df-7842dda5-d239-45e2-ba2b-0a68eabd2469');\n",
              "          const dataTable =\n",
              "            await google.colab.kernel.invokeFunction('convertToInteractive',\n",
              "                                                     [key], {});\n",
              "          if (!dataTable) return;\n",
              "\n",
              "          const docLinkHtml = 'Like what you see? Visit the ' +\n",
              "            '<a target=\"_blank\" href=https://colab.research.google.com/notebooks/data_table.ipynb>data table notebook</a>'\n",
              "            + ' to learn more about interactive tables.';\n",
              "          element.innerHTML = '';\n",
              "          dataTable['output_type'] = 'display_data';\n",
              "          await google.colab.output.renderOutput(dataTable, element);\n",
              "          const docLink = document.createElement('div');\n",
              "          docLink.innerHTML = docLinkHtml;\n",
              "          element.appendChild(docLink);\n",
              "        }\n",
              "      </script>\n",
              "    </div>\n",
              "  </div>\n",
              "  "
            ]
          },
          "metadata": {},
          "execution_count": 15
        }
      ]
    },
    {
      "cell_type": "markdown",
      "metadata": {
        "id": "37PO_vyoyqMO"
      },
      "source": [
        "As there is a wide variation among the numerical values between features, it is a best practice to normalize the features before training."
      ]
    },
    {
      "cell_type": "markdown",
      "metadata": {
        "id": "4iUzWi5UyMrW"
      },
      "source": [
        "### **Normalizing features for training**"
      ]
    },
    {
      "cell_type": "code",
      "metadata": {
        "id": "WlERPJIo0rpS"
      },
      "source": [
        "# Instantiate the scaler to a variable and fit the train and test data\n",
        "\n",
        "ss = StandardScaler()\n",
        "X_train_norm = ss.fit_transform(X_train)\n",
        "X_test_norm = ss.transform(X_test)"
      ],
      "execution_count": null,
      "outputs": []
    },
    {
      "cell_type": "markdown",
      "metadata": {
        "id": "TypuvtgoQusU"
      },
      "source": [
        "# **Perform Classification**"
      ]
    },
    {
      "cell_type": "code",
      "metadata": {
        "colab": {
          "base_uri": "https://localhost:8080/"
        },
        "id": "M1anGEDdS4Nw",
        "outputId": "6d35eb38-3a9a-4536-8c95-6f10deec50b1"
      },
      "source": [
        "LR = LogisticRegression()\n",
        " \n",
        "classifier=LR.fit(X_train_norm, y_train)\n",
        "\n",
        "score = LR.score(X_train_norm, y_train)\n",
        "\n",
        "print(\"Training score: \", score) \n",
        "\n",
        "#Make the prediction\n",
        "y_pred = LR.predict(X_test_norm)\n"
      ],
      "execution_count": null,
      "outputs": [
        {
          "output_type": "stream",
          "name": "stdout",
          "text": [
            "Training score:  0.8634361233480177\n"
          ]
        }
      ]
    },
    {
      "cell_type": "code",
      "metadata": {
        "id": "Lo2O6YxcgU_a"
      },
      "source": [
        "# Import the libraries\n",
        "from sklearn.metrics import confusion_matrix\n",
        "from sklearn.metrics import classification_report"
      ],
      "execution_count": null,
      "outputs": []
    },
    {
      "cell_type": "markdown",
      "metadata": {
        "id": "c_hDwC54h3fa"
      },
      "source": [
        "**Confusion Matrix**\n",
        "\n",
        "A confusion matrix is a summary of prediction results on a classification problem. \n",
        "\n",
        "![image.png](data:image/png;base64,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)\n",
        "\n",
        "[Source](https://manisha-sirsat.blogspot.com/2019/04/confusion-matrix.html)"
      ]
    },
    {
      "cell_type": "code",
      "metadata": {
        "colab": {
          "base_uri": "https://localhost:8080/",
          "height": 350
        },
        "id": "b_vSFbHzMEGb",
        "outputId": "6a1e9826-0493-40e5-8e5b-d0975fb8ed5c"
      },
      "source": [
        "# visualizing the confusion matrix\n",
        "\n",
        "from sklearn.metrics import plot_confusion_matrix\n",
        "from sklearn.metrics import plot_roc_curve\n",
        "\n",
        "class_names=[\"0\",\"1\"]\n",
        "plot_confusion_matrix(classifier, X_test_norm, y_test,display_labels=class_names,cmap=plt.cm.Blues)\n",
        "tick_marks = np.arange(len(class_names))\n",
        "plt.xticks(tick_marks, class_names, rotation=0)\n",
        "plt.yticks(tick_marks, class_names)\n",
        "plt.title('Confusion matrix')\n",
        "plt.show()"
      ],
      "execution_count": null,
      "outputs": [
        {
          "output_type": "stream",
          "name": "stderr",
          "text": [
            "/usr/local/lib/python3.7/dist-packages/sklearn/utils/deprecation.py:87: FutureWarning: Function plot_confusion_matrix is deprecated; Function `plot_confusion_matrix` is deprecated in 1.0 and will be removed in 1.2. Use one of the class methods: ConfusionMatrixDisplay.from_predictions or ConfusionMatrixDisplay.from_estimator.\n",
            "  warnings.warn(msg, category=FutureWarning)\n"
          ]
        },
        {
          "output_type": "display_data",
          "data": {
            "text/plain": [
              "<Figure size 432x288 with 2 Axes>"
            ],
            "image/png": "[encoded data removed]"
          },
          "metadata": {
            "needs_background": "light"
          }
        }
      ]
    },
    {
      "cell_type": "code",
      "metadata": {
        "colab": {
          "base_uri": "https://localhost:8080/"
        },
        "id": "xh7ZZLgYhjpf",
        "outputId": "fa875936-f27f-4bf7-a6ce-a9d70f612f4b"
      },
      "source": [
        "CR = classification_report(y_test, y_pred)\n",
        "print('Classification report \\n')\n",
        "print(CR)"
      ],
      "execution_count": null,
      "outputs": [
        {
          "output_type": "stream",
          "name": "stdout",
          "text": [
            "Classification report \n",
            "\n",
            "              precision    recall  f1-score   support\n",
            "\n",
            "         0.0       0.78      0.90      0.84        40\n",
            "         1.0       0.87      0.72      0.79        36\n",
            "\n",
            "    accuracy                           0.82        76\n",
            "   macro avg       0.82      0.81      0.81        76\n",
            "weighted avg       0.82      0.82      0.81        76\n",
            "\n"
          ]
        }
      ]
    },
    {
      "cell_type": "markdown",
      "metadata": {
        "id": "UhhdP5G1LTdU"
      },
      "source": [
        "### **Hyperparameter tuning with RandomizedSearchCV and GridSearchCV**"
      ]
    },
    {
      "cell_type": "code",
      "metadata": {
        "id": "iFtlix_x4lIQ"
      },
      "source": [
        "from sklearn.model_selection import RandomizedSearchCV, GridSearchCV\n"
      ],
      "execution_count": null,
      "outputs": []
    },
    {
      "cell_type": "markdown",
      "metadata": {
        "id": "UFwzU02z5TQn"
      },
      "source": [
        "**RandomizedSearchCV**"
      ]
    },
    {
      "cell_type": "code",
      "metadata": {
        "colab": {
          "base_uri": "https://localhost:8080/"
        },
        "id": "ymYKj5US4BFO",
        "outputId": "0e9a02ff-0c2f-43ec-b442-ccf5d646e877"
      },
      "source": [
        "# Create a hyperparameter grid for LogisticRegression\n",
        "log_reg_grid_rs = {\"C\": np.logspace(-4, 4, 20),\n",
        "                \"solver\": [\"liblinear\"]}\n",
        "\n",
        "# Tune LogisticRegression\n",
        "\n",
        "np.random.seed(42)\n",
        "\n",
        "# Setup random hypterparameter search for LogisticRegression with cross-validation \n",
        "RS_log_reg = RandomizedSearchCV(LogisticRegression(),\n",
        "                                param_distributions=log_reg_grid_rs,\n",
        "                                cv=5,\n",
        "                                n_iter=20,\n",
        "                                verbose=True)\n",
        "\n",
        "# Fit random hyperparamter search model for LogisticRegression\n",
        "RS_log_reg.fit(X_train_norm, y_train)"
      ],
      "execution_count": null,
      "outputs": [
        {
          "output_type": "stream",
          "name": "stdout",
          "text": [
            "Fitting 5 folds for each of 20 candidates, totalling 100 fits\n"
          ]
        },
        {
          "output_type": "execute_result",
          "data": {
            "text/plain": [
              "RandomizedSearchCV(cv=5, estimator=LogisticRegression(), n_iter=20,\n",
              "                   param_distributions={'C': array([1.00000000e-04, 2.63665090e-04, 6.95192796e-04, 1.83298071e-03,\n",
              "       4.83293024e-03, 1.27427499e-02, 3.35981829e-02, 8.85866790e-02,\n",
              "       2.33572147e-01, 6.15848211e-01, 1.62377674e+00, 4.28133240e+00,\n",
              "       1.12883789e+01, 2.97635144e+01, 7.84759970e+01, 2.06913808e+02,\n",
              "       5.45559478e+02, 1.43844989e+03, 3.79269019e+03, 1.00000000e+04]),\n",
              "                                        'solver': ['liblinear']},\n",
              "                   verbose=True)"
            ]
          },
          "metadata": {},
          "execution_count": 22
        }
      ]
    },
    {
      "cell_type": "code",
      "source": [
        "?LogisticRegression()"
      ],
      "metadata": {
        "id": "FGLDyA7Ech_S",
        "colab": {
          "base_uri": "https://localhost:8080/"
        },
        "outputId": "48f0c386-a9a0-4d5c-9200-7d6e4a0a2d37"
      },
      "execution_count": null,
      "outputs": [
        {
          "output_type": "stream",
          "name": "stdout",
          "text": [
            "Object `LogisticRegression()` not found.\n"
          ]
        }
      ]
    },
    {
      "cell_type": "code",
      "source": [
        "np.logspace(-4, 4, 20)"
      ],
      "metadata": {
        "colab": {
          "base_uri": "https://localhost:8080/"
        },
        "id": "P0Vd4o6LcA83",
        "outputId": "4378aff3-0985-4111-9ab6-a3b0bd0546b2"
      },
      "execution_count": null,
      "outputs": [
        {
          "output_type": "execute_result",
          "data": {
            "text/plain": [
              "array([1.00000000e-04, 2.63665090e-04, 6.95192796e-04, 1.83298071e-03,\n",
              "       4.83293024e-03, 1.27427499e-02, 3.35981829e-02, 8.85866790e-02,\n",
              "       2.33572147e-01, 6.15848211e-01, 1.62377674e+00, 4.28133240e+00,\n",
              "       1.12883789e+01, 2.97635144e+01, 7.84759970e+01, 2.06913808e+02,\n",
              "       5.45559478e+02, 1.43844989e+03, 3.79269019e+03, 1.00000000e+04])"
            ]
          },
          "metadata": {},
          "execution_count": 24
        }
      ]
    },
    {
      "cell_type": "code",
      "metadata": {
        "colab": {
          "base_uri": "https://localhost:8080/"
        },
        "id": "NoltT6rg42Yq",
        "outputId": "033ddf92-e3f3-423a-eef9-c2afd32786fd"
      },
      "source": [
        "# Find the best hyperparameters\n",
        "RS_log_reg.best_params_"
      ],
      "execution_count": null,
      "outputs": [
        {
          "output_type": "execute_result",
          "data": {
            "text/plain": [
              "{'solver': 'liblinear', 'C': 0.08858667904100823}"
            ]
          },
          "metadata": {},
          "execution_count": 25
        }
      ]
    },
    {
      "cell_type": "code",
      "metadata": {
        "colab": {
          "base_uri": "https://localhost:8080/"
        },
        "id": "2_4h_SEK4-U6",
        "outputId": "ffcf9ffb-3460-406c-fa90-2749fe6e2d68"
      },
      "source": [
        "RS_log_reg.score(X_train_norm, y_train)"
      ],
      "execution_count": null,
      "outputs": [
        {
          "output_type": "execute_result",
          "data": {
            "text/plain": [
              "0.8678414096916299"
            ]
          },
          "metadata": {},
          "execution_count": 26
        }
      ]
    },
    {
      "cell_type": "code",
      "metadata": {
        "colab": {
          "base_uri": "https://localhost:8080/"
        },
        "id": "ly0rtHgj7wEQ",
        "outputId": "ee936357-e949-4eb3-9e34-43591944f8b7"
      },
      "source": [
        "# Make predictions with tuned model\n",
        "y_preds = RS_log_reg.predict(X_test_norm)\n",
        "# Confusion matrix\n",
        "print(confusion_matrix(y_test, y_preds))"
      ],
      "execution_count": null,
      "outputs": [
        {
          "output_type": "stream",
          "name": "stdout",
          "text": [
            "[[36  4]\n",
            " [10 26]]\n"
          ]
        }
      ]
    },
    {
      "cell_type": "code",
      "source": [
        "?plot_roc_curve"
      ],
      "metadata": {
        "id": "IHHP87UrRF5v"
      },
      "execution_count": null,
      "outputs": []
    },
    {
      "cell_type": "code",
      "metadata": {
        "colab": {
          "base_uri": "https://localhost:8080/",
          "height": 351
        },
        "id": "4p-TctKW7Wma",
        "outputId": "5804f5cc-7bcb-4e36-8e3d-7b99012c8c73"
      },
      "source": [
        "# Plot ROC curve and calculate AUC metric\n",
        "plot_roc_curve(RS_log_reg, X_test_norm, y_test)"
      ],
      "execution_count": null,
      "outputs": [
        {
          "output_type": "stream",
          "name": "stderr",
          "text": [
            "/usr/local/lib/python3.7/dist-packages/sklearn/utils/deprecation.py:87: FutureWarning: Function plot_roc_curve is deprecated; Function :func:`plot_roc_curve` is deprecated in 1.0 and will be removed in 1.2. Use one of the class methods: :meth:`sklearn.metric.RocCurveDisplay.from_predictions` or :meth:`sklearn.metric.RocCurveDisplay.from_estimator`.\n",
            "  warnings.warn(msg, category=FutureWarning)\n"
          ]
        },
        {
          "output_type": "execute_result",
          "data": {
            "text/plain": [
              "<sklearn.metrics._plot.roc_curve.RocCurveDisplay at 0x7f9f721b98d0>"
            ]
          },
          "metadata": {},
          "execution_count": 29
        },
        {
          "output_type": "display_data",
          "data": {
            "text/plain": [
              "<Figure size 432x288 with 1 Axes>"
            ],
            "image/png": "[encoded data removed]"
          },
          "metadata": {
            "needs_background": "light"
          }
        }
      ]
    },
    {
      "cell_type": "markdown",
      "metadata": {
        "id": "T4U9fhr75YHJ"
      },
      "source": [
        "**GridSearchCV**"
      ]
    },
    {
      "cell_type": "code",
      "metadata": {
        "colab": {
          "base_uri": "https://localhost:8080/"
        },
        "id": "ZmeZnq065ZKR",
        "outputId": "1fca81c7-79de-4305-f3ab-227f198d96f2"
      },
      "source": [
        "# Setup grid hyperparamter search for LogisticRegression\n",
        "log_reg_grid_gs = {\"C\": np.logspace(-4, 4, 30),\n",
        "                \"solver\": [\"liblinear\"]}\n",
        "\n",
        "GS_log_reg = GridSearchCV(LogisticRegression(),\n",
        "                          param_grid=log_reg_grid_gs,\n",
        "                          cv=5,\n",
        "                          verbose=True)\n",
        "\n",
        "# Fit grid hyperparameter search model\n",
        "GS_log_reg.fit(X_train_norm, y_train);"
      ],
      "execution_count": null,
      "outputs": [
        {
          "output_type": "stream",
          "name": "stdout",
          "text": [
            "Fitting 5 folds for each of 30 candidates, totalling 150 fits\n"
          ]
        }
      ]
    },
    {
      "cell_type": "code",
      "source": [
        "np.logspace(-4, 4, 30)"
      ],
      "metadata": {
        "colab": {
          "base_uri": "https://localhost:8080/"
        },
        "id": "LcTGhwDodhzJ",
        "outputId": "e7da92e6-0f44-47d1-965c-81f5d294494c"
      },
      "execution_count": null,
      "outputs": [
        {
          "output_type": "execute_result",
          "data": {
            "text/plain": [
              "array([1.00000000e-04, 1.88739182e-04, 3.56224789e-04, 6.72335754e-04,\n",
              "       1.26896100e-03, 2.39502662e-03, 4.52035366e-03, 8.53167852e-03,\n",
              "       1.61026203e-02, 3.03919538e-02, 5.73615251e-02, 1.08263673e-01,\n",
              "       2.04335972e-01, 3.85662042e-01, 7.27895384e-01, 1.37382380e+00,\n",
              "       2.59294380e+00, 4.89390092e+00, 9.23670857e+00, 1.74332882e+01,\n",
              "       3.29034456e+01, 6.21016942e+01, 1.17210230e+02, 2.21221629e+02,\n",
              "       4.17531894e+02, 7.88046282e+02, 1.48735211e+03, 2.80721620e+03,\n",
              "       5.29831691e+03, 1.00000000e+04])"
            ]
          },
          "metadata": {},
          "execution_count": 31
        }
      ]
    },
    {
      "cell_type": "code",
      "metadata": {
        "colab": {
          "base_uri": "https://localhost:8080/"
        },
        "id": "UMYZP1Cp5pNs",
        "outputId": "c2c5ef35-1ee7-4743-cd17-2e4547340cf8"
      },
      "source": [
        "# Check the best hyperparameters\n",
        "GS_log_reg.best_params_"
      ],
      "execution_count": null,
      "outputs": [
        {
          "output_type": "execute_result",
          "data": {
            "text/plain": [
              "{'C': 0.1082636733874054, 'solver': 'liblinear'}"
            ]
          },
          "metadata": {},
          "execution_count": 32
        }
      ]
    },
    {
      "cell_type": "code",
      "metadata": {
        "colab": {
          "base_uri": "https://localhost:8080/"
        },
        "id": "IiqUN8Ta5sm-",
        "outputId": "9aa9eab8-7aae-41ce-907a-888780466c33"
      },
      "source": [
        "# Evaluate the grid search LogisticRegression model\n",
        "GS_log_reg.score(X_train_norm, y_train)"
      ],
      "execution_count": null,
      "outputs": [
        {
          "output_type": "execute_result",
          "data": {
            "text/plain": [
              "0.8634361233480177"
            ]
          },
          "metadata": {},
          "execution_count": 33
        }
      ]
    },
    {
      "cell_type": "code",
      "metadata": {
        "colab": {
          "base_uri": "https://localhost:8080/"
        },
        "id": "RloY0NOH7qul",
        "outputId": "f0f7ca61-750d-4ee6-c225-73dc8b83a65c"
      },
      "source": [
        "# Make predictions with tuned model\n",
        "y_preds = GS_log_reg.predict(X_test_norm)\n",
        "# Confusion matrix\n",
        "print(confusion_matrix(y_test, y_preds))"
      ],
      "execution_count": null,
      "outputs": [
        {
          "output_type": "stream",
          "name": "stdout",
          "text": [
            "[[36  4]\n",
            " [10 26]]\n"
          ]
        }
      ]
    },
    {
      "cell_type": "code",
      "metadata": {
        "colab": {
          "base_uri": "https://localhost:8080/",
          "height": 351
        },
        "id": "zD-NKt337mO_",
        "outputId": "8da3d5b7-3408-4359-e80a-cc7c8acb48c9"
      },
      "source": [
        "# Plot ROC curve and calculate AUC metric\n",
        "plot_roc_curve(GS_log_reg, X_test_norm, y_test)"
      ],
      "execution_count": null,
      "outputs": [
        {
          "output_type": "stream",
          "name": "stderr",
          "text": [
            "/usr/local/lib/python3.7/dist-packages/sklearn/utils/deprecation.py:87: FutureWarning: Function plot_roc_curve is deprecated; Function :func:`plot_roc_curve` is deprecated in 1.0 and will be removed in 1.2. Use one of the class methods: :meth:`sklearn.metric.RocCurveDisplay.from_predictions` or :meth:`sklearn.metric.RocCurveDisplay.from_estimator`.\n",
            "  warnings.warn(msg, category=FutureWarning)\n"
          ]
        },
        {
          "output_type": "execute_result",
          "data": {
            "text/plain": [
              "<sklearn.metrics._plot.roc_curve.RocCurveDisplay at 0x7f9f720d6110>"
            ]
          },
          "metadata": {},
          "execution_count": 35
        },
        {
          "output_type": "display_data",
          "data": {
            "text/plain": [
              "<Figure size 432x288 with 1 Axes>"
            ],
            "image/png": "[encoded data removed]"
          },
          "metadata": {
            "needs_background": "light"
          }
        }
      ]
    },
    {
      "cell_type": "markdown",
      "metadata": {
        "id": "5FUAhx-eLbGE"
      },
      "source": [
        "# **With Pipeline**"
      ]
    },
    {
      "cell_type": "code",
      "metadata": {
        "colab": {
          "base_uri": "https://localhost:8080/",
          "height": 404
        },
        "id": "Df4HGjEoJ1TX",
        "outputId": "a1be0f28-5ace-43d6-d453-fdd49e19450e"
      },
      "source": [
        "from sklearn.preprocessing import StandardScaler, MinMaxScaler, MaxAbsScaler, RobustScaler\n",
        "from sklearn.pipeline import Pipeline\n",
        "from sklearn.model_selection import cross_val_score\n",
        "pipe = Pipeline([('scaler', StandardScaler()),\n",
        "                         (\"classifier\", LogisticRegression())])\n",
        "pipe.fit(X_train,y_train)\n",
        "\n",
        "# Evaluate the model using crossvalidation\n",
        "acc = cross_val_score(pipe, X_train, y_train,cv=10)\n",
        "print(\"Accuracy: {:.2f} %\".format(acc.mean()*100))\n",
        "\n",
        "y_pred = pipe.predict(X_test)\n",
        "cm = confusion_matrix(y_test, y_pred)\n",
        "print(cm)\n",
        "\n",
        "plot_confusion_matrix(pipe, X_test, y_test,display_labels=class_names,cmap=plt.cm.Blues)\n",
        "tick_marks = np.arange(len(class_names))\n",
        "plt.xticks(tick_marks, class_names, rotation=45)\n",
        "plt.yticks(tick_marks, class_names)\n",
        "plt.title('Confusion matrix')\n",
        "plt.show()"
      ],
      "execution_count": null,
      "outputs": [
        {
          "output_type": "stream",
          "name": "stdout",
          "text": [
            "Accuracy: 83.26 %\n",
            "[[36  4]\n",
            " [10 26]]\n"
          ]
        },
        {
          "output_type": "stream",
          "name": "stderr",
          "text": [
            "/usr/local/lib/python3.7/dist-packages/sklearn/utils/deprecation.py:87: FutureWarning: Function plot_confusion_matrix is deprecated; Function `plot_confusion_matrix` is deprecated in 1.0 and will be removed in 1.2. Use one of the class methods: ConfusionMatrixDisplay.from_predictions or ConfusionMatrixDisplay.from_estimator.\n",
            "  warnings.warn(msg, category=FutureWarning)\n"
          ]
        },
        {
          "output_type": "display_data",
          "data": {
            "text/plain": [
              "<Figure size 432x288 with 2 Axes>"
            ],
            "image/png": "[encoded data removed]"
          },
          "metadata": {
            "needs_background": "light"
          }
        }
      ]
    }
  ]
}